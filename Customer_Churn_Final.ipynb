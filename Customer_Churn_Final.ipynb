{
 "cells": [
  {
   "cell_type": "code",
   "execution_count": 219,
   "metadata": {},
   "outputs": [],
   "source": [
    "#import required libraries\n",
    "import pandas as pd\n",
    "from sklearn import datasets\n",
    "from sklearn.cluster import KMeans\n",
    "import numpy as np\n",
    "# for standarization of numeric column in data frame\n",
    "from scipy.stats import zscore\n",
    "from sklearn.metrics import silhouette_score\n",
    "# for visualization\n",
    "import seaborn as sns\n",
    "import matplotlib.pyplot as plt\n",
    "from matplotlib import cm\n",
    "%matplotlib inline"
   ]
  },
  {
   "cell_type": "code",
   "execution_count": 220,
   "metadata": {},
   "outputs": [],
   "source": [
    "import seaborn as sns"
   ]
  },
  {
   "cell_type": "code",
   "execution_count": 221,
   "metadata": {},
   "outputs": [],
   "source": [
    "#reading the file \n",
    "df = pd.read_csv(\"Customer_master_churn_new.csv\")"
   ]
  },
  {
   "cell_type": "code",
   "execution_count": 222,
   "metadata": {},
   "outputs": [
    {
     "data": {
      "text/html": [
       "<div>\n",
       "<style scoped>\n",
       "    .dataframe tbody tr th:only-of-type {\n",
       "        vertical-align: middle;\n",
       "    }\n",
       "\n",
       "    .dataframe tbody tr th {\n",
       "        vertical-align: top;\n",
       "    }\n",
       "\n",
       "    .dataframe thead th {\n",
       "        text-align: right;\n",
       "    }\n",
       "</style>\n",
       "<table border=\"1\" class=\"dataframe\">\n",
       "  <thead>\n",
       "    <tr style=\"text-align: right;\">\n",
       "      <th></th>\n",
       "      <th>Customer_Id</th>\n",
       "      <th>No_Of_Purchases</th>\n",
       "      <th>Income</th>\n",
       "      <th>Sale_value</th>\n",
       "      <th>First_Name</th>\n",
       "      <th>Last_Name</th>\n",
       "      <th>Age</th>\n",
       "      <th>Gender</th>\n",
       "      <th>Maritial_Status</th>\n",
       "      <th>No_Of_Childern</th>\n",
       "      <th>Profession</th>\n",
       "      <th>Education</th>\n",
       "      <th>Address_2</th>\n",
       "      <th>City</th>\n",
       "      <th>Country</th>\n",
       "      <th>Churn</th>\n",
       "    </tr>\n",
       "  </thead>\n",
       "  <tbody>\n",
       "    <tr>\n",
       "      <th>0</th>\n",
       "      <td>1305</td>\n",
       "      <td>2</td>\n",
       "      <td>High</td>\n",
       "      <td>10133</td>\n",
       "      <td>Ebony</td>\n",
       "      <td>Kumar</td>\n",
       "      <td>36</td>\n",
       "      <td>Female</td>\n",
       "      <td>Married</td>\n",
       "      <td>1</td>\n",
       "      <td>Public Relations</td>\n",
       "      <td>Graduate</td>\n",
       "      <td>ML</td>\n",
       "      <td>Shillong</td>\n",
       "      <td>India</td>\n",
       "      <td>0</td>\n",
       "    </tr>\n",
       "    <tr>\n",
       "      <th>1</th>\n",
       "      <td>1461</td>\n",
       "      <td>2</td>\n",
       "      <td>High</td>\n",
       "      <td>10390</td>\n",
       "      <td>Dane</td>\n",
       "      <td>Ismail</td>\n",
       "      <td>44</td>\n",
       "      <td>NaN</td>\n",
       "      <td>Divorced</td>\n",
       "      <td>2</td>\n",
       "      <td>Payroll</td>\n",
       "      <td>Graduate</td>\n",
       "      <td>Jammu and Kashmir</td>\n",
       "      <td>Jammu</td>\n",
       "      <td>India</td>\n",
       "      <td>0</td>\n",
       "    </tr>\n",
       "    <tr>\n",
       "      <th>2</th>\n",
       "      <td>1470</td>\n",
       "      <td>1</td>\n",
       "      <td>Low</td>\n",
       "      <td>1051</td>\n",
       "      <td>Dolan</td>\n",
       "      <td>Patel</td>\n",
       "      <td>12</td>\n",
       "      <td>Male</td>\n",
       "      <td>Single</td>\n",
       "      <td>0</td>\n",
       "      <td>Student</td>\n",
       "      <td>Others</td>\n",
       "      <td>Kerala</td>\n",
       "      <td>Kollam</td>\n",
       "      <td>India</td>\n",
       "      <td>0</td>\n",
       "    </tr>\n",
       "    <tr>\n",
       "      <th>3</th>\n",
       "      <td>1346</td>\n",
       "      <td>2</td>\n",
       "      <td>Low</td>\n",
       "      <td>10559</td>\n",
       "      <td>Dale</td>\n",
       "      <td>Patel</td>\n",
       "      <td>75</td>\n",
       "      <td>Male</td>\n",
       "      <td>Others</td>\n",
       "      <td>2</td>\n",
       "      <td>Customer Service</td>\n",
       "      <td>Under Graduate</td>\n",
       "      <td>Assam</td>\n",
       "      <td>Silchar</td>\n",
       "      <td>India</td>\n",
       "      <td>1</td>\n",
       "    </tr>\n",
       "    <tr>\n",
       "      <th>4</th>\n",
       "      <td>1388</td>\n",
       "      <td>2</td>\n",
       "      <td>Low</td>\n",
       "      <td>10564</td>\n",
       "      <td>Xyla</td>\n",
       "      <td>Singh</td>\n",
       "      <td>17</td>\n",
       "      <td>NaN</td>\n",
       "      <td>Single</td>\n",
       "      <td>0</td>\n",
       "      <td>Student</td>\n",
       "      <td>PUC\\XII</td>\n",
       "      <td>Rajasthan</td>\n",
       "      <td>Jaipur</td>\n",
       "      <td>India</td>\n",
       "      <td>1</td>\n",
       "    </tr>\n",
       "  </tbody>\n",
       "</table>\n",
       "</div>"
      ],
      "text/plain": [
       "   Customer_Id  No_Of_Purchases Income  Sale_value First_Name Last_Name  Age  \\\n",
       "0         1305                2   High       10133      Ebony     Kumar   36   \n",
       "1         1461                2   High       10390       Dane    Ismail   44   \n",
       "2         1470                1    Low        1051      Dolan     Patel   12   \n",
       "3         1346                2    Low       10559       Dale     Patel   75   \n",
       "4         1388                2    Low       10564       Xyla     Singh   17   \n",
       "\n",
       "   Gender Maritial_Status  No_Of_Childern        Profession       Education  \\\n",
       "0  Female         Married               1  Public Relations        Graduate   \n",
       "1     NaN        Divorced               2           Payroll        Graduate   \n",
       "2    Male          Single               0           Student          Others   \n",
       "3    Male          Others               2  Customer Service  Under Graduate   \n",
       "4     NaN          Single               0           Student         PUC\\XII   \n",
       "\n",
       "           Address_2      City Country  Churn  \n",
       "0                 ML  Shillong   India      0  \n",
       "1  Jammu and Kashmir     Jammu   India      0  \n",
       "2             Kerala    Kollam   India      0  \n",
       "3              Assam   Silchar   India      1  \n",
       "4          Rajasthan    Jaipur   India      1  "
      ]
     },
     "execution_count": 222,
     "metadata": {},
     "output_type": "execute_result"
    }
   ],
   "source": [
    "# do a eye viw of imported data\n",
    "df.head(5)"
   ]
  },
  {
   "cell_type": "code",
   "execution_count": 223,
   "metadata": {},
   "outputs": [
    {
     "name": "stdout",
     "output_type": "stream",
     "text": [
      "<class 'pandas.core.frame.DataFrame'>\n",
      "RangeIndex: 311 entries, 0 to 310\n",
      "Data columns (total 16 columns):\n",
      "Customer_Id        311 non-null int64\n",
      "No_Of_Purchases    311 non-null int64\n",
      "Income             311 non-null object\n",
      "Sale_value         311 non-null int64\n",
      "First_Name         311 non-null object\n",
      "Last_Name          311 non-null object\n",
      "Age                311 non-null int64\n",
      "Gender             206 non-null object\n",
      "Maritial_Status    311 non-null object\n",
      "No_Of_Childern     311 non-null int64\n",
      "Profession         311 non-null object\n",
      "Education          311 non-null object\n",
      "Address_2          311 non-null object\n",
      "City               311 non-null object\n",
      "Country            311 non-null object\n",
      "Churn              311 non-null int64\n",
      "dtypes: int64(6), object(10)\n",
      "memory usage: 39.0+ KB\n"
     ]
    }
   ],
   "source": [
    "df.info()"
   ]
  },
  {
   "cell_type": "code",
   "execution_count": 224,
   "metadata": {},
   "outputs": [
    {
     "data": {
      "text/plain": [
       "<matplotlib.axes._subplots.AxesSubplot at 0x1a1816fb38>"
      ]
     },
     "execution_count": 224,
     "metadata": {},
     "output_type": "execute_result"
    },
    {
     "data": {
      "image/png": "[encoded data removed]",
      "text/plain": [
       "<matplotlib.figure.Figure at 0x1a1816f4e0>"
      ]
     },
     "metadata": {},
     "output_type": "display_data"
    }
   ],
   "source": [
    "# Age column needs to be checked,lets see its distributon\n",
    "df.boxplot(\"Age\")\n",
    "#Looks fine"
   ]
  },
  {
   "cell_type": "code",
   "execution_count": 225,
   "metadata": {},
   "outputs": [
    {
     "data": {
      "text/plain": [
       "(311, 16)"
      ]
     },
     "execution_count": 225,
     "metadata": {},
     "output_type": "execute_result"
    }
   ],
   "source": [
    "# Dimension of data set\n",
    "df.shape"
   ]
  },
  {
   "cell_type": "code",
   "execution_count": 226,
   "metadata": {},
   "outputs": [
    {
     "data": {
      "text/html": [
       "<div>\n",
       "<style scoped>\n",
       "    .dataframe tbody tr th:only-of-type {\n",
       "        vertical-align: middle;\n",
       "    }\n",
       "\n",
       "    .dataframe tbody tr th {\n",
       "        vertical-align: top;\n",
       "    }\n",
       "\n",
       "    .dataframe thead th {\n",
       "        text-align: right;\n",
       "    }\n",
       "</style>\n",
       "<table border=\"1\" class=\"dataframe\">\n",
       "  <thead>\n",
       "    <tr style=\"text-align: right;\">\n",
       "      <th></th>\n",
       "      <th>count</th>\n",
       "      <th>mean</th>\n",
       "      <th>std</th>\n",
       "      <th>min</th>\n",
       "      <th>25%</th>\n",
       "      <th>50%</th>\n",
       "      <th>75%</th>\n",
       "      <th>max</th>\n",
       "    </tr>\n",
       "  </thead>\n",
       "  <tbody>\n",
       "    <tr>\n",
       "      <th>Customer_Id</th>\n",
       "      <td>311.0</td>\n",
       "      <td>1253.594855</td>\n",
       "      <td>142.594971</td>\n",
       "      <td>1001.0</td>\n",
       "      <td>1137.5</td>\n",
       "      <td>1255.0</td>\n",
       "      <td>1369.0</td>\n",
       "      <td>1499.0</td>\n",
       "    </tr>\n",
       "    <tr>\n",
       "      <th>No_Of_Purchases</th>\n",
       "      <td>311.0</td>\n",
       "      <td>1.607717</td>\n",
       "      <td>0.819405</td>\n",
       "      <td>1.0</td>\n",
       "      <td>1.0</td>\n",
       "      <td>1.0</td>\n",
       "      <td>2.0</td>\n",
       "      <td>5.0</td>\n",
       "    </tr>\n",
       "    <tr>\n",
       "      <th>Sale_value</th>\n",
       "      <td>311.0</td>\n",
       "      <td>8449.115756</td>\n",
       "      <td>5705.124997</td>\n",
       "      <td>367.0</td>\n",
       "      <td>4582.0</td>\n",
       "      <td>7376.0</td>\n",
       "      <td>11106.0</td>\n",
       "      <td>31971.0</td>\n",
       "    </tr>\n",
       "    <tr>\n",
       "      <th>Age</th>\n",
       "      <td>311.0</td>\n",
       "      <td>44.295820</td>\n",
       "      <td>19.620659</td>\n",
       "      <td>12.0</td>\n",
       "      <td>27.0</td>\n",
       "      <td>43.0</td>\n",
       "      <td>60.0</td>\n",
       "      <td>80.0</td>\n",
       "    </tr>\n",
       "    <tr>\n",
       "      <th>No_Of_Childern</th>\n",
       "      <td>311.0</td>\n",
       "      <td>1.000000</td>\n",
       "      <td>0.946982</td>\n",
       "      <td>0.0</td>\n",
       "      <td>0.0</td>\n",
       "      <td>1.0</td>\n",
       "      <td>2.0</td>\n",
       "      <td>4.0</td>\n",
       "    </tr>\n",
       "    <tr>\n",
       "      <th>Churn</th>\n",
       "      <td>311.0</td>\n",
       "      <td>0.440514</td>\n",
       "      <td>0.497249</td>\n",
       "      <td>0.0</td>\n",
       "      <td>0.0</td>\n",
       "      <td>0.0</td>\n",
       "      <td>1.0</td>\n",
       "      <td>1.0</td>\n",
       "    </tr>\n",
       "  </tbody>\n",
       "</table>\n",
       "</div>"
      ],
      "text/plain": [
       "                 count         mean          std     min     25%     50%  \\\n",
       "Customer_Id      311.0  1253.594855   142.594971  1001.0  1137.5  1255.0   \n",
       "No_Of_Purchases  311.0     1.607717     0.819405     1.0     1.0     1.0   \n",
       "Sale_value       311.0  8449.115756  5705.124997   367.0  4582.0  7376.0   \n",
       "Age              311.0    44.295820    19.620659    12.0    27.0    43.0   \n",
       "No_Of_Childern   311.0     1.000000     0.946982     0.0     0.0     1.0   \n",
       "Churn            311.0     0.440514     0.497249     0.0     0.0     0.0   \n",
       "\n",
       "                     75%      max  \n",
       "Customer_Id       1369.0   1499.0  \n",
       "No_Of_Purchases      2.0      5.0  \n",
       "Sale_value       11106.0  31971.0  \n",
       "Age                 60.0     80.0  \n",
       "No_Of_Childern       2.0      4.0  \n",
       "Churn                1.0      1.0  "
      ]
     },
     "execution_count": 226,
     "metadata": {},
     "output_type": "execute_result"
    }
   ],
   "source": [
    "#lets check the distribution \n",
    "df.describe().transpose()"
   ]
  },
  {
   "cell_type": "code",
   "execution_count": 227,
   "metadata": {},
   "outputs": [
    {
     "data": {
      "text/html": [
       "<div>\n",
       "<style scoped>\n",
       "    .dataframe tbody tr th:only-of-type {\n",
       "        vertical-align: middle;\n",
       "    }\n",
       "\n",
       "    .dataframe tbody tr th {\n",
       "        vertical-align: top;\n",
       "    }\n",
       "\n",
       "    .dataframe thead th {\n",
       "        text-align: right;\n",
       "    }\n",
       "</style>\n",
       "<table border=\"1\" class=\"dataframe\">\n",
       "  <thead>\n",
       "    <tr style=\"text-align: right;\">\n",
       "      <th></th>\n",
       "      <th>Customer_Id</th>\n",
       "      <th>No_Of_Purchases</th>\n",
       "      <th>Income</th>\n",
       "      <th>Sale_value</th>\n",
       "      <th>First_Name</th>\n",
       "      <th>Last_Name</th>\n",
       "      <th>Age</th>\n",
       "      <th>Gender</th>\n",
       "      <th>Maritial_Status</th>\n",
       "      <th>No_Of_Childern</th>\n",
       "      <th>Profession</th>\n",
       "      <th>Education</th>\n",
       "      <th>Address_2</th>\n",
       "      <th>City</th>\n",
       "      <th>Country</th>\n",
       "      <th>Churn</th>\n",
       "    </tr>\n",
       "  </thead>\n",
       "  <tbody>\n",
       "    <tr>\n",
       "      <th>0</th>\n",
       "      <td>1305</td>\n",
       "      <td>2</td>\n",
       "      <td>High</td>\n",
       "      <td>10133</td>\n",
       "      <td>Ebony</td>\n",
       "      <td>Kumar</td>\n",
       "      <td>36</td>\n",
       "      <td>Female</td>\n",
       "      <td>Married</td>\n",
       "      <td>1</td>\n",
       "      <td>Public Relations</td>\n",
       "      <td>Graduate</td>\n",
       "      <td>ML</td>\n",
       "      <td>Shillong</td>\n",
       "      <td>India</td>\n",
       "      <td>0</td>\n",
       "    </tr>\n",
       "    <tr>\n",
       "      <th>1</th>\n",
       "      <td>1461</td>\n",
       "      <td>2</td>\n",
       "      <td>High</td>\n",
       "      <td>10390</td>\n",
       "      <td>Dane</td>\n",
       "      <td>Ismail</td>\n",
       "      <td>44</td>\n",
       "      <td>NaN</td>\n",
       "      <td>Divorced</td>\n",
       "      <td>2</td>\n",
       "      <td>Payroll</td>\n",
       "      <td>Graduate</td>\n",
       "      <td>Jammu and Kashmir</td>\n",
       "      <td>Jammu</td>\n",
       "      <td>India</td>\n",
       "      <td>0</td>\n",
       "    </tr>\n",
       "  </tbody>\n",
       "</table>\n",
       "</div>"
      ],
      "text/plain": [
       "   Customer_Id  No_Of_Purchases Income  Sale_value First_Name Last_Name  Age  \\\n",
       "0         1305                2   High       10133      Ebony     Kumar   36   \n",
       "1         1461                2   High       10390       Dane    Ismail   44   \n",
       "\n",
       "   Gender Maritial_Status  No_Of_Childern        Profession Education  \\\n",
       "0  Female         Married               1  Public Relations  Graduate   \n",
       "1     NaN        Divorced               2           Payroll  Graduate   \n",
       "\n",
       "           Address_2      City Country  Churn  \n",
       "0                 ML  Shillong   India      0  \n",
       "1  Jammu and Kashmir     Jammu   India      0  "
      ]
     },
     "execution_count": 227,
     "metadata": {},
     "output_type": "execute_result"
    }
   ],
   "source": [
    "df.head(2)"
   ]
  },
  {
   "cell_type": "code",
   "execution_count": 228,
   "metadata": {},
   "outputs": [
    {
     "data": {
      "text/plain": [
       "Customer_Id          0\n",
       "No_Of_Purchases      0\n",
       "Income               0\n",
       "Sale_value           0\n",
       "First_Name           0\n",
       "Last_Name            0\n",
       "Age                  0\n",
       "Gender             105\n",
       "Maritial_Status      0\n",
       "No_Of_Childern       0\n",
       "Profession           0\n",
       "Education            0\n",
       "Address_2            0\n",
       "City                 0\n",
       "Country              0\n",
       "Churn                0\n",
       "dtype: int64"
      ]
     },
     "execution_count": 228,
     "metadata": {},
     "output_type": "execute_result"
    }
   ],
   "source": [
    "#check if any null value is there\n",
    "df.isnull().sum()"
   ]
  },
  {
   "cell_type": "code",
   "execution_count": 229,
   "metadata": {},
   "outputs": [
    {
     "data": {
      "text/html": [
       "<div>\n",
       "<style scoped>\n",
       "    .dataframe tbody tr th:only-of-type {\n",
       "        vertical-align: middle;\n",
       "    }\n",
       "\n",
       "    .dataframe tbody tr th {\n",
       "        vertical-align: top;\n",
       "    }\n",
       "\n",
       "    .dataframe thead th {\n",
       "        text-align: right;\n",
       "    }\n",
       "</style>\n",
       "<table border=\"1\" class=\"dataframe\">\n",
       "  <thead>\n",
       "    <tr style=\"text-align: right;\">\n",
       "      <th></th>\n",
       "      <th>Customer_Id</th>\n",
       "      <th>No_Of_Purchases</th>\n",
       "      <th>Income</th>\n",
       "      <th>Sale_value</th>\n",
       "      <th>First_Name</th>\n",
       "      <th>Last_Name</th>\n",
       "      <th>Age</th>\n",
       "      <th>Maritial_Status</th>\n",
       "      <th>No_Of_Childern</th>\n",
       "      <th>Profession</th>\n",
       "      <th>Education</th>\n",
       "      <th>Address_2</th>\n",
       "      <th>City</th>\n",
       "      <th>Country</th>\n",
       "      <th>Churn</th>\n",
       "    </tr>\n",
       "    <tr>\n",
       "      <th>Gender</th>\n",
       "      <th></th>\n",
       "      <th></th>\n",
       "      <th></th>\n",
       "      <th></th>\n",
       "      <th></th>\n",
       "      <th></th>\n",
       "      <th></th>\n",
       "      <th></th>\n",
       "      <th></th>\n",
       "      <th></th>\n",
       "      <th></th>\n",
       "      <th></th>\n",
       "      <th></th>\n",
       "      <th></th>\n",
       "      <th></th>\n",
       "    </tr>\n",
       "  </thead>\n",
       "  <tbody>\n",
       "    <tr>\n",
       "      <th>Female</th>\n",
       "      <td>96</td>\n",
       "      <td>96</td>\n",
       "      <td>96</td>\n",
       "      <td>96</td>\n",
       "      <td>96</td>\n",
       "      <td>96</td>\n",
       "      <td>96</td>\n",
       "      <td>96</td>\n",
       "      <td>96</td>\n",
       "      <td>96</td>\n",
       "      <td>96</td>\n",
       "      <td>96</td>\n",
       "      <td>96</td>\n",
       "      <td>96</td>\n",
       "      <td>96</td>\n",
       "    </tr>\n",
       "    <tr>\n",
       "      <th>Male</th>\n",
       "      <td>110</td>\n",
       "      <td>110</td>\n",
       "      <td>110</td>\n",
       "      <td>110</td>\n",
       "      <td>110</td>\n",
       "      <td>110</td>\n",
       "      <td>110</td>\n",
       "      <td>110</td>\n",
       "      <td>110</td>\n",
       "      <td>110</td>\n",
       "      <td>110</td>\n",
       "      <td>110</td>\n",
       "      <td>110</td>\n",
       "      <td>110</td>\n",
       "      <td>110</td>\n",
       "    </tr>\n",
       "  </tbody>\n",
       "</table>\n",
       "</div>"
      ],
      "text/plain": [
       "        Customer_Id  No_Of_Purchases  Income  Sale_value  First_Name  \\\n",
       "Gender                                                                 \n",
       "Female           96               96      96          96          96   \n",
       "Male            110              110     110         110         110   \n",
       "\n",
       "        Last_Name  Age  Maritial_Status  No_Of_Childern  Profession  \\\n",
       "Gender                                                                \n",
       "Female         96   96               96              96          96   \n",
       "Male          110  110              110             110         110   \n",
       "\n",
       "        Education  Address_2  City  Country  Churn  \n",
       "Gender                                              \n",
       "Female         96         96    96       96     96  \n",
       "Male          110        110   110      110    110  "
      ]
     },
     "execution_count": 229,
     "metadata": {},
     "output_type": "execute_result"
    }
   ],
   "source": [
    "df.groupby('Gender').count()\n"
   ]
  },
  {
   "cell_type": "code",
   "execution_count": null,
   "metadata": {},
   "outputs": [],
   "source": []
  },
  {
   "cell_type": "code",
   "execution_count": 230,
   "metadata": {},
   "outputs": [
    {
     "data": {
      "text/plain": [
       "Customer_Id         int64\n",
       "No_Of_Purchases     int64\n",
       "Income             object\n",
       "Sale_value          int64\n",
       "First_Name         object\n",
       "Last_Name          object\n",
       "Age                 int64\n",
       "Gender             object\n",
       "Maritial_Status    object\n",
       "No_Of_Childern      int64\n",
       "Profession         object\n",
       "Education          object\n",
       "Address_2          object\n",
       "City               object\n",
       "Country            object\n",
       "Churn               int64\n",
       "dtype: object"
      ]
     },
     "execution_count": 230,
     "metadata": {},
     "output_type": "execute_result"
    }
   ],
   "source": [
    "#check the data types of dataframe \n",
    "df.dtypes"
   ]
  },
  {
   "cell_type": "code",
   "execution_count": 231,
   "metadata": {},
   "outputs": [
    {
     "data": {
      "text/html": [
       "<div>\n",
       "<style scoped>\n",
       "    .dataframe tbody tr th:only-of-type {\n",
       "        vertical-align: middle;\n",
       "    }\n",
       "\n",
       "    .dataframe tbody tr th {\n",
       "        vertical-align: top;\n",
       "    }\n",
       "\n",
       "    .dataframe thead th {\n",
       "        text-align: right;\n",
       "    }\n",
       "</style>\n",
       "<table border=\"1\" class=\"dataframe\">\n",
       "  <thead>\n",
       "    <tr style=\"text-align: right;\">\n",
       "      <th></th>\n",
       "      <th>Income</th>\n",
       "      <th>First_Name</th>\n",
       "      <th>Last_Name</th>\n",
       "      <th>Gender</th>\n",
       "      <th>Maritial_Status</th>\n",
       "      <th>Profession</th>\n",
       "      <th>Education</th>\n",
       "      <th>Address_2</th>\n",
       "      <th>City</th>\n",
       "      <th>Country</th>\n",
       "    </tr>\n",
       "  </thead>\n",
       "  <tbody>\n",
       "    <tr>\n",
       "      <th>count</th>\n",
       "      <td>311</td>\n",
       "      <td>311</td>\n",
       "      <td>311</td>\n",
       "      <td>206</td>\n",
       "      <td>311</td>\n",
       "      <td>311</td>\n",
       "      <td>311</td>\n",
       "      <td>311</td>\n",
       "      <td>311</td>\n",
       "      <td>311</td>\n",
       "    </tr>\n",
       "    <tr>\n",
       "      <th>unique</th>\n",
       "      <td>3</td>\n",
       "      <td>270</td>\n",
       "      <td>7</td>\n",
       "      <td>2</td>\n",
       "      <td>6</td>\n",
       "      <td>16</td>\n",
       "      <td>6</td>\n",
       "      <td>70</td>\n",
       "      <td>138</td>\n",
       "      <td>1</td>\n",
       "    </tr>\n",
       "    <tr>\n",
       "      <th>top</th>\n",
       "      <td>Low</td>\n",
       "      <td>Lisandra</td>\n",
       "      <td>Raj</td>\n",
       "      <td>Male</td>\n",
       "      <td>Single</td>\n",
       "      <td>Student</td>\n",
       "      <td>SSLC\\X</td>\n",
       "      <td>MH</td>\n",
       "      <td>Imphal</td>\n",
       "      <td>India</td>\n",
       "    </tr>\n",
       "    <tr>\n",
       "      <th>freq</th>\n",
       "      <td>184</td>\n",
       "      <td>3</td>\n",
       "      <td>54</td>\n",
       "      <td>110</td>\n",
       "      <td>104</td>\n",
       "      <td>46</td>\n",
       "      <td>61</td>\n",
       "      <td>9</td>\n",
       "      <td>13</td>\n",
       "      <td>311</td>\n",
       "    </tr>\n",
       "  </tbody>\n",
       "</table>\n",
       "</div>"
      ],
      "text/plain": [
       "       Income First_Name Last_Name Gender Maritial_Status Profession  \\\n",
       "count     311        311       311    206             311        311   \n",
       "unique      3        270         7      2               6         16   \n",
       "top       Low   Lisandra       Raj   Male          Single    Student   \n",
       "freq      184          3        54    110             104         46   \n",
       "\n",
       "       Education Address_2    City Country  \n",
       "count        311       311     311     311  \n",
       "unique         6        70     138       1  \n",
       "top       SSLC\\X        MH  Imphal   India  \n",
       "freq          61         9      13     311  "
      ]
     },
     "execution_count": 231,
     "metadata": {},
     "output_type": "execute_result"
    }
   ],
   "source": [
    "#get the overview of object data \n",
    "df.describe(include=[np.object])"
   ]
  },
  {
   "cell_type": "markdown",
   "metadata": {
    "collapsed": true
   },
   "source": [
    "### We need to focus on High Value Customer Churn, so lets make hypothesis of who can be high value customer\n",
    "We can assume,High Value customers as those who make more number of purchase, buy at least 2 purhcase and those who make high value purchase."
   ]
  },
  {
   "cell_type": "code",
   "execution_count": 232,
   "metadata": {},
   "outputs": [
    {
     "data": {
      "text/plain": [
       "<matplotlib.axes._subplots.AxesSubplot at 0x1a183095c0>"
      ]
     },
     "execution_count": 232,
     "metadata": {},
     "output_type": "execute_result"
    },
    {
     "data": {
      "image/png": "[encoded data removed]",
      "text/plain": [
       "<matplotlib.figure.Figure at 0x1a18309860>"
      ]
     },
     "metadata": {},
     "output_type": "display_data"
    }
   ],
   "source": [
    "sns.distplot(df[\"No_Of_Purchases\"])"
   ]
  },
  {
   "cell_type": "code",
   "execution_count": 233,
   "metadata": {},
   "outputs": [],
   "source": [
    "#select the customers who has made purchases more than 2 for high value customers\n",
    "df2 = df[df[\"No_Of_Purchases\"]>2]"
   ]
  },
  {
   "cell_type": "code",
   "execution_count": 234,
   "metadata": {},
   "outputs": [
    {
     "data": {
      "text/plain": [
       "(43, 16)"
      ]
     },
     "execution_count": 234,
     "metadata": {},
     "output_type": "execute_result"
    }
   ],
   "source": [
    "df2.shape"
   ]
  },
  {
   "cell_type": "code",
   "execution_count": 235,
   "metadata": {},
   "outputs": [
    {
     "data": {
      "text/plain": [
       "<matplotlib.axes._subplots.AxesSubplot at 0x1a1821c358>"
      ]
     },
     "execution_count": 235,
     "metadata": {},
     "output_type": "execute_result"
    },
    {
     "data": {
      "image/png": "[encoded data removed]",
      "text/plain": [
       "<matplotlib.figure.Figure at 0x1a1831c898>"
      ]
     },
     "metadata": {},
     "output_type": "display_data"
    }
   ],
   "source": [
    "sns.distplot(df[\"Sale_value\"])"
   ]
  },
  {
   "cell_type": "code",
   "execution_count": 236,
   "metadata": {},
   "outputs": [
    {
     "name": "stderr",
     "output_type": "stream",
     "text": [
      "/anaconda3/lib/python3.6/site-packages/ipykernel_launcher.py:2: DeprecationWarning:\n",
      "\n",
      "\n",
      ".ix is deprecated. Please use\n",
      ".loc for label based indexing or\n",
      ".iloc for positional indexing\n",
      "\n",
      "See the documentation here:\n",
      "http://pandas.pydata.org/pandas-docs/stable/indexing.html#ix-indexer-is-deprecated\n",
      "\n",
      "/anaconda3/lib/python3.6/site-packages/pandas/core/indexing.py:537: SettingWithCopyWarning:\n",
      "\n",
      "\n",
      "A value is trying to be set on a copy of a slice from a DataFrame.\n",
      "Try using .loc[row_indexer,col_indexer] = value instead\n",
      "\n",
      "See the caveats in the documentation: http://pandas.pydata.org/pandas-docs/stable/indexing.html#indexing-view-versus-copy\n",
      "\n"
     ]
    }
   ],
   "source": [
    "#minimum handset price can't be 0,lets impute this\n",
    "df2.ix[np.abs(df2.Sale_value)==0,\"Sale_value\"] = np.round(df2.Sale_value.mean()+2*df2.Sale_value.std())"
   ]
  },
  {
   "cell_type": "code",
   "execution_count": 237,
   "metadata": {},
   "outputs": [
    {
     "data": {
      "text/plain": [
       "<matplotlib.axes._subplots.AxesSubplot at 0x1a1817ab70>"
      ]
     },
     "execution_count": 237,
     "metadata": {},
     "output_type": "execute_result"
    },
    {
     "data": {
      "image/png": "[encoded data removed]",
      "text/plain": [
       "<matplotlib.figure.Figure at 0x1a18317b00>"
      ]
     },
     "metadata": {},
     "output_type": "display_data"
    }
   ],
   "source": [
    "sns.distplot(df2[\"Sale_value\"])"
   ]
  },
  {
   "cell_type": "code",
   "execution_count": 238,
   "metadata": {},
   "outputs": [],
   "source": [
    "#Store all numerical columns\n",
    "numericalcolumn = df2.select_dtypes(include = [np.number]).columns"
   ]
  },
  {
   "cell_type": "code",
   "execution_count": 239,
   "metadata": {},
   "outputs": [],
   "source": [
    "#standarize the data\n",
    "df_z = df2[numericalcolumn].apply(zscore)"
   ]
  },
  {
   "cell_type": "code",
   "execution_count": 240,
   "metadata": {},
   "outputs": [
    {
     "data": {
      "text/html": [
       "<div>\n",
       "<style scoped>\n",
       "    .dataframe tbody tr th:only-of-type {\n",
       "        vertical-align: middle;\n",
       "    }\n",
       "\n",
       "    .dataframe tbody tr th {\n",
       "        vertical-align: top;\n",
       "    }\n",
       "\n",
       "    .dataframe thead th {\n",
       "        text-align: right;\n",
       "    }\n",
       "</style>\n",
       "<table border=\"1\" class=\"dataframe\">\n",
       "  <thead>\n",
       "    <tr style=\"text-align: right;\">\n",
       "      <th></th>\n",
       "      <th>Customer_Id</th>\n",
       "      <th>No_Of_Purchases</th>\n",
       "      <th>Sale_value</th>\n",
       "      <th>Age</th>\n",
       "      <th>No_Of_Childern</th>\n",
       "      <th>Churn</th>\n",
       "    </tr>\n",
       "  </thead>\n",
       "  <tbody>\n",
       "    <tr>\n",
       "      <th>11</th>\n",
       "      <td>0.779490</td>\n",
       "      <td>-0.480537</td>\n",
       "      <td>-1.274073</td>\n",
       "      <td>-0.652374</td>\n",
       "      <td>0.900426</td>\n",
       "      <td>1.072381</td>\n",
       "    </tr>\n",
       "    <tr>\n",
       "      <th>12</th>\n",
       "      <td>-0.450028</td>\n",
       "      <td>-0.480537</td>\n",
       "      <td>-1.272545</td>\n",
       "      <td>0.296006</td>\n",
       "      <td>-0.092351</td>\n",
       "      <td>1.072381</td>\n",
       "    </tr>\n",
       "    <tr>\n",
       "      <th>13</th>\n",
       "      <td>0.936117</td>\n",
       "      <td>-0.480537</td>\n",
       "      <td>-1.252296</td>\n",
       "      <td>0.445750</td>\n",
       "      <td>1.893204</td>\n",
       "      <td>-0.932505</td>\n",
       "    </tr>\n",
       "    <tr>\n",
       "      <th>20</th>\n",
       "      <td>0.074671</td>\n",
       "      <td>-0.480537</td>\n",
       "      <td>-1.150482</td>\n",
       "      <td>-1.500925</td>\n",
       "      <td>-1.085129</td>\n",
       "      <td>1.072381</td>\n",
       "    </tr>\n",
       "    <tr>\n",
       "      <th>23</th>\n",
       "      <td>0.152984</td>\n",
       "      <td>-0.480537</td>\n",
       "      <td>-1.123357</td>\n",
       "      <td>1.593790</td>\n",
       "      <td>0.900426</td>\n",
       "      <td>-0.932505</td>\n",
       "    </tr>\n",
       "  </tbody>\n",
       "</table>\n",
       "</div>"
      ],
      "text/plain": [
       "    Customer_Id  No_Of_Purchases  Sale_value       Age  No_Of_Childern  \\\n",
       "11     0.779490        -0.480537   -1.274073 -0.652374        0.900426   \n",
       "12    -0.450028        -0.480537   -1.272545  0.296006       -0.092351   \n",
       "13     0.936117        -0.480537   -1.252296  0.445750        1.893204   \n",
       "20     0.074671        -0.480537   -1.150482 -1.500925       -1.085129   \n",
       "23     0.152984        -0.480537   -1.123357  1.593790        0.900426   \n",
       "\n",
       "       Churn  \n",
       "11  1.072381  \n",
       "12  1.072381  \n",
       "13 -0.932505  \n",
       "20  1.072381  \n",
       "23 -0.932505  "
      ]
     },
     "execution_count": 240,
     "metadata": {},
     "output_type": "execute_result"
    }
   ],
   "source": [
    "#Lets check the data\n",
    "df_z.head(5)"
   ]
  },
  {
   "cell_type": "code",
   "execution_count": 241,
   "metadata": {},
   "outputs": [
    {
     "data": {
      "text/html": [
       "<style  type=\"text/css\" >\n",
       "    #T_ef793158_1326_11e8_8688_e0accb843bb6 th {\n",
       "          font-size: 7pt;\n",
       "    }    #T_ef793158_1326_11e8_8688_e0accb843bb6 td {\n",
       "          padding: 0em 0em;\n",
       "    }    #T_ef793158_1326_11e8_8688_e0accb843bb6 th:hover {\n",
       "          font-size: 12pt;\n",
       "    }    #T_ef793158_1326_11e8_8688_e0accb843bb6 tr:hover td:hover {\n",
       "          max-width: 200px;\n",
       "          font-size: 12pt;\n",
       "    }    #T_ef793158_1326_11e8_8688_e0accb843bb6row0_col0 {\n",
       "            background-color:  #4479bb;\n",
       "            max-width:  80px;\n",
       "            font-size:  10pt;\n",
       "        }    #T_ef793158_1326_11e8_8688_e0accb843bb6row0_col1 {\n",
       "            background-color:  #e68396;\n",
       "            max-width:  80px;\n",
       "            font-size:  10pt;\n",
       "        }    #T_ef793158_1326_11e8_8688_e0accb843bb6row0_col2 {\n",
       "            background-color:  #e27087;\n",
       "            max-width:  80px;\n",
       "            font-size:  10pt;\n",
       "        }    #T_ef793158_1326_11e8_8688_e0accb843bb6row0_col3 {\n",
       "            background-color:  #e0667e;\n",
       "            max-width:  80px;\n",
       "            font-size:  10pt;\n",
       "        }    #T_ef793158_1326_11e8_8688_e0accb843bb6row0_col4 {\n",
       "            background-color:  #eeabb8;\n",
       "            max-width:  80px;\n",
       "            font-size:  10pt;\n",
       "        }    #T_ef793158_1326_11e8_8688_e0accb843bb6row0_col5 {\n",
       "            background-color:  #d73c5b;\n",
       "            max-width:  80px;\n",
       "            font-size:  10pt;\n",
       "        }    #T_ef793158_1326_11e8_8688_e0accb843bb6row1_col0 {\n",
       "            background-color:  #e4798e;\n",
       "            max-width:  80px;\n",
       "            font-size:  10pt;\n",
       "        }    #T_ef793158_1326_11e8_8688_e0accb843bb6row1_col1 {\n",
       "            background-color:  #4479bb;\n",
       "            max-width:  80px;\n",
       "            font-size:  10pt;\n",
       "        }    #T_ef793158_1326_11e8_8688_e0accb843bb6row1_col2 {\n",
       "            background-color:  #e6edf6;\n",
       "            max-width:  80px;\n",
       "            font-size:  10pt;\n",
       "        }    #T_ef793158_1326_11e8_8688_e0accb843bb6row1_col3 {\n",
       "            background-color:  #db4f6b;\n",
       "            max-width:  80px;\n",
       "            font-size:  10pt;\n",
       "        }    #T_ef793158_1326_11e8_8688_e0accb843bb6row1_col4 {\n",
       "            background-color:  #d73c5b;\n",
       "            max-width:  80px;\n",
       "            font-size:  10pt;\n",
       "        }    #T_ef793158_1326_11e8_8688_e0accb843bb6row1_col5 {\n",
       "            background-color:  #d94764;\n",
       "            max-width:  80px;\n",
       "            font-size:  10pt;\n",
       "        }    #T_ef793158_1326_11e8_8688_e0accb843bb6row2_col0 {\n",
       "            background-color:  #db4f6b;\n",
       "            max-width:  80px;\n",
       "            font-size:  10pt;\n",
       "        }    #T_ef793158_1326_11e8_8688_e0accb843bb6row2_col1 {\n",
       "            background-color:  #f2f2f2;\n",
       "            max-width:  80px;\n",
       "            font-size:  10pt;\n",
       "        }    #T_ef793158_1326_11e8_8688_e0accb843bb6row2_col2 {\n",
       "            background-color:  #4479bb;\n",
       "            max-width:  80px;\n",
       "            font-size:  10pt;\n",
       "        }    #T_ef793158_1326_11e8_8688_e0accb843bb6row2_col3 {\n",
       "            background-color:  #eeaab7;\n",
       "            max-width:  80px;\n",
       "            font-size:  10pt;\n",
       "        }    #T_ef793158_1326_11e8_8688_e0accb843bb6row2_col4 {\n",
       "            background-color:  #d73c5b;\n",
       "            max-width:  80px;\n",
       "            font-size:  10pt;\n",
       "        }    #T_ef793158_1326_11e8_8688_e0accb843bb6row2_col5 {\n",
       "            background-color:  #db4f6b;\n",
       "            max-width:  80px;\n",
       "            font-size:  10pt;\n",
       "        }    #T_ef793158_1326_11e8_8688_e0accb843bb6row3_col0 {\n",
       "            background-color:  #dc516d;\n",
       "            max-width:  80px;\n",
       "            font-size:  10pt;\n",
       "        }    #T_ef793158_1326_11e8_8688_e0accb843bb6row3_col1 {\n",
       "            background-color:  #d94563;\n",
       "            max-width:  80px;\n",
       "            font-size:  10pt;\n",
       "        }    #T_ef793158_1326_11e8_8688_e0accb843bb6row3_col2 {\n",
       "            background-color:  #efb2bf;\n",
       "            max-width:  80px;\n",
       "            font-size:  10pt;\n",
       "        }    #T_ef793158_1326_11e8_8688_e0accb843bb6row3_col3 {\n",
       "            background-color:  #4479bb;\n",
       "            max-width:  80px;\n",
       "            font-size:  10pt;\n",
       "        }    #T_ef793158_1326_11e8_8688_e0accb843bb6row3_col4 {\n",
       "            background-color:  #fae7eb;\n",
       "            max-width:  80px;\n",
       "            font-size:  10pt;\n",
       "        }    #T_ef793158_1326_11e8_8688_e0accb843bb6row3_col5 {\n",
       "            background-color:  #d73c5b;\n",
       "            max-width:  80px;\n",
       "            font-size:  10pt;\n",
       "        }    #T_ef793158_1326_11e8_8688_e0accb843bb6row4_col0 {\n",
       "            background-color:  #eeacba;\n",
       "            max-width:  80px;\n",
       "            font-size:  10pt;\n",
       "        }    #T_ef793158_1326_11e8_8688_e0accb843bb6row4_col1 {\n",
       "            background-color:  #da4865;\n",
       "            max-width:  80px;\n",
       "            font-size:  10pt;\n",
       "        }    #T_ef793158_1326_11e8_8688_e0accb843bb6row4_col2 {\n",
       "            background-color:  #de5e77;\n",
       "            max-width:  80px;\n",
       "            font-size:  10pt;\n",
       "        }    #T_ef793158_1326_11e8_8688_e0accb843bb6row4_col3 {\n",
       "            background-color:  #f2f2f2;\n",
       "            max-width:  80px;\n",
       "            font-size:  10pt;\n",
       "        }    #T_ef793158_1326_11e8_8688_e0accb843bb6row4_col4 {\n",
       "            background-color:  #4479bb;\n",
       "            max-width:  80px;\n",
       "            font-size:  10pt;\n",
       "        }    #T_ef793158_1326_11e8_8688_e0accb843bb6row4_col5 {\n",
       "            background-color:  #d73c5b;\n",
       "            max-width:  80px;\n",
       "            font-size:  10pt;\n",
       "        }    #T_ef793158_1326_11e8_8688_e0accb843bb6row5_col0 {\n",
       "            background-color:  #d73c5b;\n",
       "            max-width:  80px;\n",
       "            font-size:  10pt;\n",
       "        }    #T_ef793158_1326_11e8_8688_e0accb843bb6row5_col1 {\n",
       "            background-color:  #dc546f;\n",
       "            max-width:  80px;\n",
       "            font-size:  10pt;\n",
       "        }    #T_ef793158_1326_11e8_8688_e0accb843bb6row5_col2 {\n",
       "            background-color:  #e27087;\n",
       "            max-width:  80px;\n",
       "            font-size:  10pt;\n",
       "        }    #T_ef793158_1326_11e8_8688_e0accb843bb6row5_col3 {\n",
       "            background-color:  #dc526e;\n",
       "            max-width:  80px;\n",
       "            font-size:  10pt;\n",
       "        }    #T_ef793158_1326_11e8_8688_e0accb843bb6row5_col4 {\n",
       "            background-color:  #d73c5b;\n",
       "            max-width:  80px;\n",
       "            font-size:  10pt;\n",
       "        }    #T_ef793158_1326_11e8_8688_e0accb843bb6row5_col5 {\n",
       "            background-color:  #4479bb;\n",
       "            max-width:  80px;\n",
       "            font-size:  10pt;\n",
       "        }</style>  \n",
       "<table id=\"T_ef793158_1326_11e8_8688_e0accb843bb6\" ><caption>Hover to magify</caption> \n",
       "<thead>    <tr> \n",
       "        <th class=\"blank level0\" ></th> \n",
       "        <th class=\"col_heading level0 col0\" >Customer_Id</th> \n",
       "        <th class=\"col_heading level0 col1\" >No_Of_Purchases</th> \n",
       "        <th class=\"col_heading level0 col2\" >Sale_value</th> \n",
       "        <th class=\"col_heading level0 col3\" >Age</th> \n",
       "        <th class=\"col_heading level0 col4\" >No_Of_Childern</th> \n",
       "        <th class=\"col_heading level0 col5\" >Churn</th> \n",
       "    </tr></thead> \n",
       "<tbody>    <tr> \n",
       "        <th id=\"T_ef793158_1326_11e8_8688_e0accb843bb6level0_row0\" class=\"row_heading level0 row0\" >Customer_Id</th> \n",
       "        <td id=\"T_ef793158_1326_11e8_8688_e0accb843bb6row0_col0\" class=\"data row0 col0\" >1</td> \n",
       "        <td id=\"T_ef793158_1326_11e8_8688_e0accb843bb6row0_col1\" class=\"data row0 col1\" >0.13</td> \n",
       "        <td id=\"T_ef793158_1326_11e8_8688_e0accb843bb6row0_col2\" class=\"data row0 col2\" >0.074</td> \n",
       "        <td id=\"T_ef793158_1326_11e8_8688_e0accb843bb6row0_col3\" class=\"data row0 col3\" >0.044</td> \n",
       "        <td id=\"T_ef793158_1326_11e8_8688_e0accb843bb6row0_col4\" class=\"data row0 col4\" >0.25</td> \n",
       "        <td id=\"T_ef793158_1326_11e8_8688_e0accb843bb6row0_col5\" class=\"data row0 col5\" >-0.084</td> \n",
       "    </tr>    <tr> \n",
       "        <th id=\"T_ef793158_1326_11e8_8688_e0accb843bb6level0_row1\" class=\"row_heading level0 row1\" >No_Of_Purchases</th> \n",
       "        <td id=\"T_ef793158_1326_11e8_8688_e0accb843bb6row1_col0\" class=\"data row1 col0\" >0.13</td> \n",
       "        <td id=\"T_ef793158_1326_11e8_8688_e0accb843bb6row1_col1\" class=\"data row1 col1\" >1</td> \n",
       "        <td id=\"T_ef793158_1326_11e8_8688_e0accb843bb6row1_col2\" class=\"data row1 col2\" >0.52</td> \n",
       "        <td id=\"T_ef793158_1326_11e8_8688_e0accb843bb6row1_col3\" class=\"data row1 col3\" >0.014</td> \n",
       "        <td id=\"T_ef793158_1326_11e8_8688_e0accb843bb6row1_col4\" class=\"data row1 col4\" >-0.044</td> \n",
       "        <td id=\"T_ef793158_1326_11e8_8688_e0accb843bb6row1_col5\" class=\"data row1 col5\" >-0.01</td> \n",
       "    </tr>    <tr> \n",
       "        <th id=\"T_ef793158_1326_11e8_8688_e0accb843bb6level0_row2\" class=\"row_heading level0 row2\" >Sale_value</th> \n",
       "        <td id=\"T_ef793158_1326_11e8_8688_e0accb843bb6row2_col0\" class=\"data row2 col0\" >0.074</td> \n",
       "        <td id=\"T_ef793158_1326_11e8_8688_e0accb843bb6row2_col1\" class=\"data row2 col1\" >0.52</td> \n",
       "        <td id=\"T_ef793158_1326_11e8_8688_e0accb843bb6row2_col2\" class=\"data row2 col2\" >1</td> \n",
       "        <td id=\"T_ef793158_1326_11e8_8688_e0accb843bb6row2_col3\" class=\"data row2 col3\" >0.32</td> \n",
       "        <td id=\"T_ef793158_1326_11e8_8688_e0accb843bb6row2_col4\" class=\"data row2 col4\" >0.017</td> \n",
       "        <td id=\"T_ef793158_1326_11e8_8688_e0accb843bb6row2_col5\" class=\"data row2 col5\" >0.073</td> \n",
       "    </tr>    <tr> \n",
       "        <th id=\"T_ef793158_1326_11e8_8688_e0accb843bb6level0_row3\" class=\"row_heading level0 row3\" >Age</th> \n",
       "        <td id=\"T_ef793158_1326_11e8_8688_e0accb843bb6row3_col0\" class=\"data row3 col0\" >0.044</td> \n",
       "        <td id=\"T_ef793158_1326_11e8_8688_e0accb843bb6row3_col1\" class=\"data row3 col1\" >0.014</td> \n",
       "        <td id=\"T_ef793158_1326_11e8_8688_e0accb843bb6row3_col2\" class=\"data row3 col2\" >0.32</td> \n",
       "        <td id=\"T_ef793158_1326_11e8_8688_e0accb843bb6row3_col3\" class=\"data row3 col3\" >1</td> \n",
       "        <td id=\"T_ef793158_1326_11e8_8688_e0accb843bb6row3_col4\" class=\"data row3 col4\" >0.46</td> \n",
       "        <td id=\"T_ef793158_1326_11e8_8688_e0accb843bb6row3_col5\" class=\"data row3 col5\" >-0.017</td> \n",
       "    </tr>    <tr> \n",
       "        <th id=\"T_ef793158_1326_11e8_8688_e0accb843bb6level0_row4\" class=\"row_heading level0 row4\" >No_Of_Childern</th> \n",
       "        <td id=\"T_ef793158_1326_11e8_8688_e0accb843bb6row4_col0\" class=\"data row4 col0\" >0.25</td> \n",
       "        <td id=\"T_ef793158_1326_11e8_8688_e0accb843bb6row4_col1\" class=\"data row4 col1\" >-0.044</td> \n",
       "        <td id=\"T_ef793158_1326_11e8_8688_e0accb843bb6row4_col2\" class=\"data row4 col2\" >0.017</td> \n",
       "        <td id=\"T_ef793158_1326_11e8_8688_e0accb843bb6row4_col3\" class=\"data row4 col3\" >0.46</td> \n",
       "        <td id=\"T_ef793158_1326_11e8_8688_e0accb843bb6row4_col4\" class=\"data row4 col4\" >1</td> \n",
       "        <td id=\"T_ef793158_1326_11e8_8688_e0accb843bb6row4_col5\" class=\"data row4 col5\" >-0.086</td> \n",
       "    </tr>    <tr> \n",
       "        <th id=\"T_ef793158_1326_11e8_8688_e0accb843bb6level0_row5\" class=\"row_heading level0 row5\" >Churn</th> \n",
       "        <td id=\"T_ef793158_1326_11e8_8688_e0accb843bb6row5_col0\" class=\"data row5 col0\" >-0.084</td> \n",
       "        <td id=\"T_ef793158_1326_11e8_8688_e0accb843bb6row5_col1\" class=\"data row5 col1\" >-0.01</td> \n",
       "        <td id=\"T_ef793158_1326_11e8_8688_e0accb843bb6row5_col2\" class=\"data row5 col2\" >0.073</td> \n",
       "        <td id=\"T_ef793158_1326_11e8_8688_e0accb843bb6row5_col3\" class=\"data row5 col3\" >-0.017</td> \n",
       "        <td id=\"T_ef793158_1326_11e8_8688_e0accb843bb6row5_col4\" class=\"data row5 col4\" >-0.086</td> \n",
       "        <td id=\"T_ef793158_1326_11e8_8688_e0accb843bb6row5_col5\" class=\"data row5 col5\" >1</td> \n",
       "    </tr></tbody> \n",
       "</table> "
      ],
      "text/plain": [
       "<pandas.io.formats.style.Styler at 0x1a181c7668>"
      ]
     },
     "execution_count": 241,
     "metadata": {},
     "output_type": "execute_result"
    }
   ],
   "source": [
    "#Heat map for correlation just to know the  quantified relation between the variable\n",
    "#calculate the correlation matrix\n",
    "corr = df_z.corr()\n",
    "cmap = cmap=sns.diverging_palette(5, 250, as_cmap=True)\n",
    "\n",
    "\n",
    "#draw the correlation table \n",
    "def magnify():\n",
    "    return [dict(selector=\"th\",\n",
    "                 props=[(\"font-size\", \"7pt\")]),\n",
    "            dict(selector=\"td\",\n",
    "                 props=[('padding', \"0em 0em\")]),\n",
    "            dict(selector=\"th:hover\",\n",
    "                 props=[(\"font-size\", \"12pt\")]),\n",
    "            dict(selector=\"tr:hover td:hover\",\n",
    "                 props=[('max-width', '200px'),\n",
    "                        ('font-size', '12pt')])\n",
    "]\n",
    "\n",
    "corr.style.background_gradient(cmap, axis=1)\\\n",
    "    .set_properties(**{'max-width': '80px', 'font-size': '10pt'})\\\n",
    "    .set_caption(\"Hover to magify\")\\\n",
    "    .set_precision(2)\\\n",
    "    .set_table_styles(magnify())\n",
    "# Seems ok to go with"
   ]
  },
  {
   "cell_type": "markdown",
   "metadata": {},
   "source": [
    "### Apply KMeans for different number of clusters to identify the suitable size"
   ]
  },
  {
   "cell_type": "code",
   "execution_count": 242,
   "metadata": {},
   "outputs": [
    {
     "data": {
      "text/html": [
       "<div>\n",
       "<style scoped>\n",
       "    .dataframe tbody tr th:only-of-type {\n",
       "        vertical-align: middle;\n",
       "    }\n",
       "\n",
       "    .dataframe tbody tr th {\n",
       "        vertical-align: top;\n",
       "    }\n",
       "\n",
       "    .dataframe thead th {\n",
       "        text-align: right;\n",
       "    }\n",
       "</style>\n",
       "<table border=\"1\" class=\"dataframe\">\n",
       "  <thead>\n",
       "    <tr style=\"text-align: right;\">\n",
       "      <th></th>\n",
       "      <th>cluster_errors</th>\n",
       "      <th>num_clusters</th>\n",
       "    </tr>\n",
       "  </thead>\n",
       "  <tbody>\n",
       "    <tr>\n",
       "      <th>0</th>\n",
       "      <td>258.000000</td>\n",
       "      <td>1</td>\n",
       "    </tr>\n",
       "    <tr>\n",
       "      <th>1</th>\n",
       "      <td>208.767658</td>\n",
       "      <td>2</td>\n",
       "    </tr>\n",
       "    <tr>\n",
       "      <th>2</th>\n",
       "      <td>171.828574</td>\n",
       "      <td>3</td>\n",
       "    </tr>\n",
       "    <tr>\n",
       "      <th>3</th>\n",
       "      <td>144.267371</td>\n",
       "      <td>4</td>\n",
       "    </tr>\n",
       "    <tr>\n",
       "      <th>4</th>\n",
       "      <td>129.258137</td>\n",
       "      <td>5</td>\n",
       "    </tr>\n",
       "    <tr>\n",
       "      <th>5</th>\n",
       "      <td>113.833252</td>\n",
       "      <td>6</td>\n",
       "    </tr>\n",
       "    <tr>\n",
       "      <th>6</th>\n",
       "      <td>105.501680</td>\n",
       "      <td>7</td>\n",
       "    </tr>\n",
       "    <tr>\n",
       "      <th>7</th>\n",
       "      <td>90.394786</td>\n",
       "      <td>8</td>\n",
       "    </tr>\n",
       "    <tr>\n",
       "      <th>8</th>\n",
       "      <td>90.643356</td>\n",
       "      <td>9</td>\n",
       "    </tr>\n",
       "  </tbody>\n",
       "</table>\n",
       "</div>"
      ],
      "text/plain": [
       "   cluster_errors  num_clusters\n",
       "0      258.000000             1\n",
       "1      208.767658             2\n",
       "2      171.828574             3\n",
       "3      144.267371             4\n",
       "4      129.258137             5\n",
       "5      113.833252             6\n",
       "6      105.501680             7\n",
       "7       90.394786             8\n",
       "8       90.643356             9"
      ]
     },
     "execution_count": 242,
     "metadata": {},
     "output_type": "execute_result"
    }
   ],
   "source": [
    "cluster_range = range(1,10)\n",
    "cluster_errors = []\n",
    "for non_clusters in cluster_range:\n",
    "    clusters = KMeans(non_clusters, n_init = 5)\n",
    "    clusters.fit(df_z)\n",
    "    labels = clusters.labels_\n",
    "    centroids = clusters.cluster_centers_\n",
    "    cluster_errors.append(clusters.inertia_)\n",
    "\n",
    "clusters_df = pd.DataFrame({\"num_clusters\": cluster_range, \"cluster_errors\": cluster_errors})\n",
    "clusters_df[0:10]"
   ]
  },
  {
   "cell_type": "code",
   "execution_count": 243,
   "metadata": {},
   "outputs": [
    {
     "data": {
      "text/plain": [
       "[<matplotlib.lines.Line2D at 0x1a1864fbe0>]"
      ]
     },
     "execution_count": 243,
     "metadata": {},
     "output_type": "execute_result"
    },
    {
     "data": {
      "image/png": "[encoded data removed]",
      "text/plain": [
       "<matplotlib.figure.Figure at 0x1a1846b828>"
      ]
     },
     "metadata": {},
     "output_type": "display_data"
    }
   ],
   "source": [
    "import matplotlib.pyplot as plt\n",
    "from matplotlib import cm\n",
    "plt.figure(figsize=(12,6))\n",
    "plt.plot( clusters_df.num_clusters, clusters_df.cluster_errors, marker = \"o\" )"
   ]
  },
  {
   "cell_type": "markdown",
   "metadata": {},
   "source": [
    "###Lets build KMeans clustering for No.Of Clusters = 4"
   ]
  },
  {
   "cell_type": "code",
   "execution_count": 244,
   "metadata": {},
   "outputs": [],
   "source": [
    "kmeans = KMeans(n_clusters=4, n_init = 5, random_state=55555)"
   ]
  },
  {
   "cell_type": "code",
   "execution_count": 245,
   "metadata": {},
   "outputs": [
    {
     "data": {
      "text/plain": [
       "KMeans(algorithm='auto', copy_x=True, init='k-means++', max_iter=300,\n",
       "    n_clusters=4, n_init=5, n_jobs=1, precompute_distances='auto',\n",
       "    random_state=55555, tol=0.0001, verbose=0)"
      ]
     },
     "execution_count": 245,
     "metadata": {},
     "output_type": "execute_result"
    }
   ],
   "source": [
    "kmeans.fit(df_z)"
   ]
  },
  {
   "cell_type": "code",
   "execution_count": 246,
   "metadata": {},
   "outputs": [
    {
     "name": "stderr",
     "output_type": "stream",
     "text": [
      "/anaconda3/lib/python3.6/site-packages/ipykernel_launcher.py:2: SettingWithCopyWarning:\n",
      "\n",
      "\n",
      "A value is trying to be set on a copy of a slice from a DataFrame.\n",
      "Try using .loc[row_indexer,col_indexer] = value instead\n",
      "\n",
      "See the caveats in the documentation: http://pandas.pydata.org/pandas-docs/stable/indexing.html#indexing-view-versus-copy\n",
      "\n"
     ]
    },
    {
     "data": {
      "text/html": [
       "<div>\n",
       "<style scoped>\n",
       "    .dataframe tbody tr th:only-of-type {\n",
       "        vertical-align: middle;\n",
       "    }\n",
       "\n",
       "    .dataframe tbody tr th {\n",
       "        vertical-align: top;\n",
       "    }\n",
       "\n",
       "    .dataframe thead th {\n",
       "        text-align: right;\n",
       "    }\n",
       "</style>\n",
       "<table border=\"1\" class=\"dataframe\">\n",
       "  <thead>\n",
       "    <tr style=\"text-align: right;\">\n",
       "      <th></th>\n",
       "      <th>Customer_Id</th>\n",
       "      <th>No_Of_Purchases</th>\n",
       "      <th>Income</th>\n",
       "      <th>Sale_value</th>\n",
       "      <th>First_Name</th>\n",
       "      <th>Last_Name</th>\n",
       "      <th>Age</th>\n",
       "      <th>Gender</th>\n",
       "      <th>Maritial_Status</th>\n",
       "      <th>No_Of_Childern</th>\n",
       "      <th>Profession</th>\n",
       "      <th>Education</th>\n",
       "      <th>Address_2</th>\n",
       "      <th>City</th>\n",
       "      <th>Country</th>\n",
       "      <th>Churn</th>\n",
       "      <th>group</th>\n",
       "    </tr>\n",
       "  </thead>\n",
       "  <tbody>\n",
       "    <tr>\n",
       "      <th>11</th>\n",
       "      <td>1381</td>\n",
       "      <td>3</td>\n",
       "      <td>Low</td>\n",
       "      <td>11124.0</td>\n",
       "      <td>Aidan</td>\n",
       "      <td>Khan</td>\n",
       "      <td>32</td>\n",
       "      <td>Male</td>\n",
       "      <td>Others</td>\n",
       "      <td>2</td>\n",
       "      <td>Accounting</td>\n",
       "      <td>SSLC\\X</td>\n",
       "      <td>Arunachal Pradesh</td>\n",
       "      <td>Itanagar</td>\n",
       "      <td>India</td>\n",
       "      <td>1</td>\n",
       "      <td>0</td>\n",
       "    </tr>\n",
       "    <tr>\n",
       "      <th>12</th>\n",
       "      <td>1224</td>\n",
       "      <td>3</td>\n",
       "      <td>High</td>\n",
       "      <td>11132.0</td>\n",
       "      <td>Wayne</td>\n",
       "      <td>Raj</td>\n",
       "      <td>51</td>\n",
       "      <td>NaN</td>\n",
       "      <td>Divorced</td>\n",
       "      <td>1</td>\n",
       "      <td>Tech Support</td>\n",
       "      <td>Post Graduate</td>\n",
       "      <td>GA</td>\n",
       "      <td>Panjim</td>\n",
       "      <td>India</td>\n",
       "      <td>1</td>\n",
       "      <td>0</td>\n",
       "    </tr>\n",
       "    <tr>\n",
       "      <th>13</th>\n",
       "      <td>1401</td>\n",
       "      <td>3</td>\n",
       "      <td>High</td>\n",
       "      <td>11238.0</td>\n",
       "      <td>Shad</td>\n",
       "      <td>Kumar</td>\n",
       "      <td>54</td>\n",
       "      <td>NaN</td>\n",
       "      <td>Married</td>\n",
       "      <td>3</td>\n",
       "      <td>Research and Development</td>\n",
       "      <td>Others</td>\n",
       "      <td>Daman and Diu</td>\n",
       "      <td>Daman</td>\n",
       "      <td>India</td>\n",
       "      <td>0</td>\n",
       "      <td>2</td>\n",
       "    </tr>\n",
       "    <tr>\n",
       "      <th>20</th>\n",
       "      <td>1291</td>\n",
       "      <td>3</td>\n",
       "      <td>Low</td>\n",
       "      <td>11771.0</td>\n",
       "      <td>Malachi</td>\n",
       "      <td>Singh</td>\n",
       "      <td>15</td>\n",
       "      <td>Male</td>\n",
       "      <td>Single</td>\n",
       "      <td>0</td>\n",
       "      <td>Student</td>\n",
       "      <td>SSLC\\X</td>\n",
       "      <td>Assam</td>\n",
       "      <td>Guwahati</td>\n",
       "      <td>India</td>\n",
       "      <td>1</td>\n",
       "      <td>3</td>\n",
       "    </tr>\n",
       "    <tr>\n",
       "      <th>23</th>\n",
       "      <td>1301</td>\n",
       "      <td>3</td>\n",
       "      <td>Low</td>\n",
       "      <td>11913.0</td>\n",
       "      <td>Quail</td>\n",
       "      <td>Khan</td>\n",
       "      <td>77</td>\n",
       "      <td>Female</td>\n",
       "      <td>Divorced</td>\n",
       "      <td>2</td>\n",
       "      <td>Payroll</td>\n",
       "      <td>SSLC\\X</td>\n",
       "      <td>GJ</td>\n",
       "      <td>Bharuch</td>\n",
       "      <td>India</td>\n",
       "      <td>0</td>\n",
       "      <td>2</td>\n",
       "    </tr>\n",
       "  </tbody>\n",
       "</table>\n",
       "</div>"
      ],
      "text/plain": [
       "    Customer_Id  No_Of_Purchases Income  Sale_value First_Name Last_Name  Age  \\\n",
       "11         1381                3    Low     11124.0      Aidan      Khan   32   \n",
       "12         1224                3   High     11132.0      Wayne       Raj   51   \n",
       "13         1401                3   High     11238.0       Shad     Kumar   54   \n",
       "20         1291                3    Low     11771.0    Malachi     Singh   15   \n",
       "23         1301                3    Low     11913.0      Quail      Khan   77   \n",
       "\n",
       "    Gender Maritial_Status  No_Of_Childern                Profession  \\\n",
       "11    Male          Others               2                Accounting   \n",
       "12     NaN        Divorced               1              Tech Support   \n",
       "13     NaN         Married               3  Research and Development   \n",
       "20    Male          Single               0                   Student   \n",
       "23  Female        Divorced               2                   Payroll   \n",
       "\n",
       "        Education          Address_2      City Country  Churn  group  \n",
       "11         SSLC\\X  Arunachal Pradesh  Itanagar   India      1      0  \n",
       "12  Post Graduate                 GA    Panjim   India      1      0  \n",
       "13         Others      Daman and Diu     Daman   India      0      2  \n",
       "20         SSLC\\X              Assam  Guwahati   India      1      3  \n",
       "23         SSLC\\X                 GJ   Bharuch   India      0      2  "
      ]
     },
     "execution_count": 246,
     "metadata": {},
     "output_type": "execute_result"
    }
   ],
   "source": [
    "predictions = kmeans.predict(df_z)\n",
    "df2[\"group\"] = predictions\n",
    "df2.head(5)"
   ]
  },
  {
   "cell_type": "code",
   "execution_count": 247,
   "metadata": {},
   "outputs": [
    {
     "name": "stdout",
     "output_type": "stream",
     "text": [
      "Requirement already satisfied: plotly in /anaconda3/lib/python3.6/site-packages\n",
      "Requirement already satisfied: nbformat>=4.2 in /anaconda3/lib/python3.6/site-packages (from plotly)\n",
      "Requirement already satisfied: requests in /anaconda3/lib/python3.6/site-packages (from plotly)\n",
      "Requirement already satisfied: pytz in /anaconda3/lib/python3.6/site-packages (from plotly)\n",
      "Requirement already satisfied: decorator>=4.0.6 in /anaconda3/lib/python3.6/site-packages (from plotly)\n",
      "Requirement already satisfied: six in /anaconda3/lib/python3.6/site-packages (from plotly)\n",
      "Requirement already satisfied: ipython_genutils in /anaconda3/lib/python3.6/site-packages (from nbformat>=4.2->plotly)\n",
      "Requirement already satisfied: traitlets>=4.1 in /anaconda3/lib/python3.6/site-packages (from nbformat>=4.2->plotly)\n",
      "Requirement already satisfied: jsonschema!=2.5.0,>=2.4 in /anaconda3/lib/python3.6/site-packages (from nbformat>=4.2->plotly)\n",
      "Requirement already satisfied: jupyter_core in /anaconda3/lib/python3.6/site-packages (from nbformat>=4.2->plotly)\n",
      "Requirement already satisfied: chardet<3.1.0,>=3.0.2 in /anaconda3/lib/python3.6/site-packages (from requests->plotly)\n",
      "Requirement already satisfied: idna<2.7,>=2.5 in /anaconda3/lib/python3.6/site-packages (from requests->plotly)\n",
      "Requirement already satisfied: urllib3<1.23,>=1.21.1 in /anaconda3/lib/python3.6/site-packages (from requests->plotly)\n",
      "Requirement already satisfied: certifi>=2017.4.17 in /anaconda3/lib/python3.6/site-packages (from requests->plotly)\n"
     ]
    }
   ],
   "source": [
    "!pip install plotly\n"
   ]
  },
  {
   "cell_type": "code",
   "execution_count": 248,
   "metadata": {},
   "outputs": [
    {
     "data": {
      "text/html": [
       "<script>requirejs.config({paths: { 'plotly': ['https://cdn.plot.ly/plotly-latest.min']},});if(!window.Plotly) {{require(['plotly'],function(plotly) {window.Plotly=plotly;});}}</script>"
      ],
      "text/vnd.plotly.v1+html": [
       "<script>requirejs.config({paths: { 'plotly': ['https://cdn.plot.ly/plotly-latest.min']},});if(!window.Plotly) {{require(['plotly'],function(plotly) {window.Plotly=plotly;});}}</script>"
      ]
     },
     "metadata": {},
     "output_type": "display_data"
    },
    {
     "name": "stdout",
     "output_type": "stream",
     "text": [
      "This is the format of your plot grid:\n",
      "[ (1,1) x1,y1 ]  [ (1,2) x2,y2 ]  [ (1,3) x3,y3 ]  [ (1,4) x4,y4 ]\n",
      "\n"
     ]
    },
    {
     "data": {
      "application/vnd.plotly.v1+json": {
       "data": [
        {
         "type": "box",
         "xaxis": "x1",
         "y": [
          3,
          3,
          3,
          3,
          3,
          3,
          3,
          4,
          3,
          3,
          4,
          3,
          3
         ],
         "yaxis": "y1"
        },
        {
         "type": "box",
         "xaxis": "x2",
         "y": [
          4,
          5,
          4,
          4,
          5
         ],
         "yaxis": "y2"
        },
        {
         "type": "box",
         "xaxis": "x3",
         "y": [
          3,
          3,
          3,
          3,
          4,
          4,
          3,
          3,
          3,
          3,
          3,
          3,
          3
         ],
         "yaxis": "y3"
        },
        {
         "type": "box",
         "xaxis": "x4",
         "y": [
          3,
          3,
          3,
          3,
          3,
          3,
          3,
          3,
          3,
          3,
          3,
          3
         ],
         "yaxis": "y4"
        }
       ],
       "layout": {
        "title": "No_Of_Purchases",
        "xaxis1": {
         "anchor": "y1",
         "domain": [
          0,
          0.2125
         ]
        },
        "xaxis2": {
         "anchor": "y2",
         "domain": [
          0.2625,
          0.475
         ]
        },
        "xaxis3": {
         "anchor": "y3",
         "domain": [
          0.525,
          0.7375
         ]
        },
        "xaxis4": {
         "anchor": "y4",
         "domain": [
          0.7875,
          1
         ]
        },
        "yaxis1": {
         "anchor": "x1",
         "domain": [
          0,
          1
         ]
        },
        "yaxis2": {
         "anchor": "x2",
         "domain": [
          0,
          1
         ]
        },
        "yaxis3": {
         "anchor": "x3",
         "domain": [
          0,
          1
         ]
        },
        "yaxis4": {
         "anchor": "x4",
         "domain": [
          0,
          1
         ]
        }
       }
      },
      "text/html": [
       "<div id=\"f3148291-21a3-4318-93e8-a5a04133bfd7\" style=\"height: 525px; width: 100%;\" class=\"plotly-graph-div\"></div><script type=\"text/javascript\">require([\"plotly\"], function(Plotly) { window.PLOTLYENV=window.PLOTLYENV || {};window.PLOTLYENV.BASE_URL=\"https://plot.ly\";Plotly.newPlot(\"f3148291-21a3-4318-93e8-a5a04133bfd7\", [{\"type\": \"box\", \"y\": [3, 3, 3, 3, 3, 3, 3, 4, 3, 3, 4, 3, 3], \"xaxis\": \"x1\", \"yaxis\": \"y1\"}, {\"type\": \"box\", \"y\": [4, 5, 4, 4, 5], \"xaxis\": \"x2\", \"yaxis\": \"y2\"}, {\"type\": \"box\", \"y\": [3, 3, 3, 3, 4, 4, 3, 3, 3, 3, 3, 3, 3], \"xaxis\": \"x3\", \"yaxis\": \"y3\"}, {\"type\": \"box\", \"y\": [3, 3, 3, 3, 3, 3, 3, 3, 3, 3, 3, 3], \"xaxis\": \"x4\", \"yaxis\": \"y4\"}], {\"xaxis1\": {\"domain\": [0.0, 0.2125], \"anchor\": \"y1\"}, \"yaxis1\": {\"domain\": [0.0, 1.0], \"anchor\": \"x1\"}, \"xaxis2\": {\"domain\": [0.2625, 0.475], \"anchor\": \"y2\"}, \"yaxis2\": {\"domain\": [0.0, 1.0], \"anchor\": \"x2\"}, \"xaxis3\": {\"domain\": [0.525, 0.7375], \"anchor\": \"y3\"}, \"yaxis3\": {\"domain\": [0.0, 1.0], \"anchor\": \"x3\"}, \"xaxis4\": {\"domain\": [0.7875, 1.0], \"anchor\": \"y4\"}, \"yaxis4\": {\"domain\": [0.0, 1.0], \"anchor\": \"x4\"}, \"title\": \"No_Of_Purchases\"}, {\"showLink\": true, \"linkText\": \"Export to plot.ly\"})});</script>"
      ],
      "text/vnd.plotly.v1+html": [
       "<div id=\"f3148291-21a3-4318-93e8-a5a04133bfd7\" style=\"height: 525px; width: 100%;\" class=\"plotly-graph-div\"></div><script type=\"text/javascript\">require([\"plotly\"], function(Plotly) { window.PLOTLYENV=window.PLOTLYENV || {};window.PLOTLYENV.BASE_URL=\"https://plot.ly\";Plotly.newPlot(\"f3148291-21a3-4318-93e8-a5a04133bfd7\", [{\"type\": \"box\", \"y\": [3, 3, 3, 3, 3, 3, 3, 4, 3, 3, 4, 3, 3], \"xaxis\": \"x1\", \"yaxis\": \"y1\"}, {\"type\": \"box\", \"y\": [4, 5, 4, 4, 5], \"xaxis\": \"x2\", \"yaxis\": \"y2\"}, {\"type\": \"box\", \"y\": [3, 3, 3, 3, 4, 4, 3, 3, 3, 3, 3, 3, 3], \"xaxis\": \"x3\", \"yaxis\": \"y3\"}, {\"type\": \"box\", \"y\": [3, 3, 3, 3, 3, 3, 3, 3, 3, 3, 3, 3], \"xaxis\": \"x4\", \"yaxis\": \"y4\"}], {\"xaxis1\": {\"domain\": [0.0, 0.2125], \"anchor\": \"y1\"}, \"yaxis1\": {\"domain\": [0.0, 1.0], \"anchor\": \"x1\"}, \"xaxis2\": {\"domain\": [0.2625, 0.475], \"anchor\": \"y2\"}, \"yaxis2\": {\"domain\": [0.0, 1.0], \"anchor\": \"x2\"}, \"xaxis3\": {\"domain\": [0.525, 0.7375], \"anchor\": \"y3\"}, \"yaxis3\": {\"domain\": [0.0, 1.0], \"anchor\": \"x3\"}, \"xaxis4\": {\"domain\": [0.7875, 1.0], \"anchor\": \"y4\"}, \"yaxis4\": {\"domain\": [0.0, 1.0], \"anchor\": \"x4\"}, \"title\": \"No_Of_Purchases\"}, {\"showLink\": true, \"linkText\": \"Export to plot.ly\"})});</script>"
      ]
     },
     "metadata": {},
     "output_type": "display_data"
    }
   ],
   "source": [
    "#Lets do profiling for high value cumtomers\n",
    "from plotly.offline import download_plotlyjs, init_notebook_mode, plot, iplot\n",
    "from plotly import tools\n",
    "import plotly.plotly as py\n",
    "import plotly.graph_objs as go\n",
    "init_notebook_mode(connected=True) #Plotly offline\n",
    "from plotly.graph_objs import *\n",
    "\n",
    "trace0 =  go.Box(\n",
    "    y=df2.loc[df2[\"group\"]==0,\"No_Of_Purchases\"]\n",
    ")\n",
    "trace1 =  go.Box(\n",
    "    y=df2.loc[df2[\"group\"]==1,\"No_Of_Purchases\"]\n",
    ")\n",
    "trace2 =  go.Box(\n",
    "    y=df2.loc[df2[\"group\"]==2,\"No_Of_Purchases\"]\n",
    ")\n",
    "trace3 =  go.Box(\n",
    "    y=df2.loc[df2[\"group\"]==3,\"No_Of_Purchases\"]\n",
    ")\n",
    "\n",
    "data = [trace0,trace1]\n",
    "fig = tools.make_subplots(rows=1, cols=4)\n",
    "\n",
    "fig.append_trace(trace0,1,1)\n",
    "fig.append_trace(trace1,1,2)\n",
    "fig.append_trace(trace2,1,3)\n",
    "fig.append_trace(trace3,1,4)\n",
    "\n",
    "\n",
    "fig['layout'].update(title='No_Of_Purchases')\n",
    "iplot(fig)"
   ]
  },
  {
   "cell_type": "code",
   "execution_count": 250,
   "metadata": {},
   "outputs": [
    {
     "name": "stdout",
     "output_type": "stream",
     "text": [
      "This is the format of your plot grid:\n",
      "[ (1,1) x1,y1 ]  [ (1,2) x2,y2 ]  [ (1,3) x3,y3 ]  [ (1,4) x4,y4 ]\n",
      "\n"
     ]
    },
    {
     "data": {
      "application/vnd.plotly.v1+json": {
       "data": [
        {
         "type": "box",
         "xaxis": "x1",
         "y": [
          11124,
          11132,
          14475,
          14555,
          15497,
          17387,
          17442,
          19487,
          19807,
          21130,
          21936,
          22237,
          24501
         ],
         "yaxis": "y1"
        },
        {
         "type": "box",
         "xaxis": "x2",
         "y": [
          17619,
          22879,
          24297,
          30727,
          31971
         ],
         "yaxis": "y2"
        },
        {
         "type": "box",
         "xaxis": "x3",
         "y": [
          11238,
          11913,
          14798,
          16651,
          16706,
          17594,
          18324,
          18946,
          20598,
          22179,
          23121,
          23500,
          5942
         ],
         "yaxis": "y3"
        },
        {
         "type": "box",
         "xaxis": "x4",
         "y": [
          11771,
          11967,
          12980,
          14363,
          14724,
          15912,
          17183,
          17560,
          18139,
          20714,
          20742,
          9365
         ],
         "yaxis": "y4"
        }
       ],
       "layout": {
        "height": 600,
        "title": "Sale_value",
        "width": 900,
        "xaxis1": {
         "anchor": "y1",
         "domain": [
          0,
          0.2125
         ]
        },
        "xaxis2": {
         "anchor": "y2",
         "domain": [
          0.2625,
          0.475
         ]
        },
        "xaxis3": {
         "anchor": "y3",
         "domain": [
          0.525,
          0.7375
         ]
        },
        "xaxis4": {
         "anchor": "y4",
         "domain": [
          0.7875,
          1
         ]
        },
        "yaxis1": {
         "anchor": "x1",
         "domain": [
          0,
          1
         ]
        },
        "yaxis2": {
         "anchor": "x2",
         "domain": [
          0,
          1
         ]
        },
        "yaxis3": {
         "anchor": "x3",
         "domain": [
          0,
          1
         ]
        },
        "yaxis4": {
         "anchor": "x4",
         "domain": [
          0,
          1
         ]
        }
       }
      },
      "text/html": [
       "<div id=\"610b74b5-7c94-460a-bc60-1b07ae69bae1\" style=\"height: 600px; width: 900px;\" class=\"plotly-graph-div\"></div><script type=\"text/javascript\">require([\"plotly\"], function(Plotly) { window.PLOTLYENV=window.PLOTLYENV || {};window.PLOTLYENV.BASE_URL=\"https://plot.ly\";Plotly.newPlot(\"610b74b5-7c94-460a-bc60-1b07ae69bae1\", [{\"type\": \"box\", \"y\": [11124.0, 11132.0, 14475.0, 14555.0, 15497.0, 17387.0, 17442.0, 19487.0, 19807.0, 21130.0, 21936.0, 22237.0, 24501.0], \"xaxis\": \"x1\", \"yaxis\": \"y1\"}, {\"type\": \"box\", \"y\": [17619.0, 22879.0, 24297.0, 30727.0, 31971.0], \"xaxis\": \"x2\", \"yaxis\": \"y2\"}, {\"type\": \"box\", \"y\": [11238.0, 11913.0, 14798.0, 16651.0, 16706.0, 17594.0, 18324.0, 18946.0, 20598.0, 22179.0, 23121.0, 23500.0, 5942.0], \"xaxis\": \"x3\", \"yaxis\": \"y3\"}, {\"type\": \"box\", \"y\": [11771.0, 11967.0, 12980.0, 14363.0, 14724.0, 15912.0, 17183.0, 17560.0, 18139.0, 20714.0, 20742.0, 9365.0], \"xaxis\": \"x4\", \"yaxis\": \"y4\"}], {\"xaxis1\": {\"domain\": [0.0, 0.2125], \"anchor\": \"y1\"}, \"yaxis1\": {\"domain\": [0.0, 1.0], \"anchor\": \"x1\"}, \"xaxis2\": {\"domain\": [0.2625, 0.475], \"anchor\": \"y2\"}, \"yaxis2\": {\"domain\": [0.0, 1.0], \"anchor\": \"x2\"}, \"xaxis3\": {\"domain\": [0.525, 0.7375], \"anchor\": \"y3\"}, \"yaxis3\": {\"domain\": [0.0, 1.0], \"anchor\": \"x3\"}, \"xaxis4\": {\"domain\": [0.7875, 1.0], \"anchor\": \"y4\"}, \"yaxis4\": {\"domain\": [0.0, 1.0], \"anchor\": \"x4\"}, \"height\": 600, \"width\": 900, \"title\": \"Sale_value\"}, {\"showLink\": true, \"linkText\": \"Export to plot.ly\"})});</script>"
      ],
      "text/vnd.plotly.v1+html": [
       "<div id=\"610b74b5-7c94-460a-bc60-1b07ae69bae1\" style=\"height: 600px; width: 900px;\" class=\"plotly-graph-div\"></div><script type=\"text/javascript\">require([\"plotly\"], function(Plotly) { window.PLOTLYENV=window.PLOTLYENV || {};window.PLOTLYENV.BASE_URL=\"https://plot.ly\";Plotly.newPlot(\"610b74b5-7c94-460a-bc60-1b07ae69bae1\", [{\"type\": \"box\", \"y\": [11124.0, 11132.0, 14475.0, 14555.0, 15497.0, 17387.0, 17442.0, 19487.0, 19807.0, 21130.0, 21936.0, 22237.0, 24501.0], \"xaxis\": \"x1\", \"yaxis\": \"y1\"}, {\"type\": \"box\", \"y\": [17619.0, 22879.0, 24297.0, 30727.0, 31971.0], \"xaxis\": \"x2\", \"yaxis\": \"y2\"}, {\"type\": \"box\", \"y\": [11238.0, 11913.0, 14798.0, 16651.0, 16706.0, 17594.0, 18324.0, 18946.0, 20598.0, 22179.0, 23121.0, 23500.0, 5942.0], \"xaxis\": \"x3\", \"yaxis\": \"y3\"}, {\"type\": \"box\", \"y\": [11771.0, 11967.0, 12980.0, 14363.0, 14724.0, 15912.0, 17183.0, 17560.0, 18139.0, 20714.0, 20742.0, 9365.0], \"xaxis\": \"x4\", \"yaxis\": \"y4\"}], {\"xaxis1\": {\"domain\": [0.0, 0.2125], \"anchor\": \"y1\"}, \"yaxis1\": {\"domain\": [0.0, 1.0], \"anchor\": \"x1\"}, \"xaxis2\": {\"domain\": [0.2625, 0.475], \"anchor\": \"y2\"}, \"yaxis2\": {\"domain\": [0.0, 1.0], \"anchor\": \"x2\"}, \"xaxis3\": {\"domain\": [0.525, 0.7375], \"anchor\": \"y3\"}, \"yaxis3\": {\"domain\": [0.0, 1.0], \"anchor\": \"x3\"}, \"xaxis4\": {\"domain\": [0.7875, 1.0], \"anchor\": \"y4\"}, \"yaxis4\": {\"domain\": [0.0, 1.0], \"anchor\": \"x4\"}, \"height\": 600, \"width\": 900, \"title\": \"Sale_value\"}, {\"showLink\": true, \"linkText\": \"Export to plot.ly\"})});</script>"
      ]
     },
     "metadata": {},
     "output_type": "display_data"
    }
   ],
   "source": [
    "trace0 =  go.Box(\n",
    "    y=df2.loc[df2[\"group\"]==0,\"Sale_value\"]\n",
    ")\n",
    "trace1 =  go.Box(\n",
    "    y=df2.loc[df2[\"group\"]==1,\"Sale_value\"]\n",
    ")\n",
    "trace2 =  go.Box(\n",
    "    y=df2.loc[df2[\"group\"]==2,\"Sale_value\"]\n",
    ")\n",
    "trace3 =  go.Box(\n",
    "    y=df2.loc[df2[\"group\"]==3,\"Sale_value\"]\n",
    ")\n",
    "\n",
    "\n",
    "data = [trace0,trace1,trace2,trace3]\n",
    "fig = tools.make_subplots(rows=1, cols=4)\n",
    "\n",
    "fig.append_trace(trace0,1,1)\n",
    "fig.append_trace(trace1,1,2)\n",
    "fig.append_trace(trace2,1,3)\n",
    "fig.append_trace(trace3,1,4)\n",
    "\n",
    "\n",
    "fig['layout'].update(height=600, width=900, title='Sale_value')\n",
    "iplot(fig)\n",
    "# Do this for every variables"
   ]
  },
  {
   "cell_type": "code",
   "execution_count": 269,
   "metadata": {},
   "outputs": [
    {
     "name": "stdout",
     "output_type": "stream",
     "text": [
      "This is the format of your plot grid:\n",
      "[ (1,1) x1,y1 ]  [ (1,2) x2,y2 ]  [ (1,3) x3,y3 ]  [ (1,4) x4,y4 ]\n",
      "\n"
     ]
    },
    {
     "data": {
      "application/vnd.plotly.v1+json": {
       "data": [
        {
         "type": "histogram",
         "xaxis": "x1",
         "y": [
          "Low",
          "High",
          "Medium",
          "Low",
          "Low",
          "High",
          "Low",
          "High",
          "Low",
          "Low",
          "Low",
          "High",
          "High"
         ],
         "yaxis": "y1"
        },
        {
         "type": "histogram",
         "xaxis": "x2",
         "y": [
          "Low",
          "Low",
          "High",
          "High",
          "Low"
         ],
         "yaxis": "y2"
        },
        {
         "type": "histogram",
         "xaxis": "x3",
         "y": [
          "High",
          "Low",
          "High",
          "High",
          "High",
          "High",
          "Low",
          "Low",
          "Low",
          "Low",
          "Low",
          "High",
          "Low"
         ],
         "yaxis": "y3"
        },
        {
         "type": "histogram",
         "xaxis": "x4",
         "y": [
          "Low",
          "High",
          "Low",
          "Low",
          "Low",
          "High",
          "Low",
          "High",
          "Low",
          "Low",
          "Low",
          "Low"
         ],
         "yaxis": "y4"
        }
       ],
       "layout": {
        "height": 600,
        "title": "Income",
        "width": 900,
        "xaxis1": {
         "anchor": "y1",
         "domain": [
          0,
          0.2125
         ]
        },
        "xaxis2": {
         "anchor": "y2",
         "domain": [
          0.2625,
          0.475
         ]
        },
        "xaxis3": {
         "anchor": "y3",
         "domain": [
          0.525,
          0.7375
         ]
        },
        "xaxis4": {
         "anchor": "y4",
         "domain": [
          0.7875,
          1
         ]
        },
        "yaxis1": {
         "anchor": "x1",
         "domain": [
          0,
          1
         ]
        },
        "yaxis2": {
         "anchor": "x2",
         "domain": [
          0,
          1
         ]
        },
        "yaxis3": {
         "anchor": "x3",
         "domain": [
          0,
          1
         ]
        },
        "yaxis4": {
         "anchor": "x4",
         "domain": [
          0,
          1
         ]
        }
       }
      },
      "text/html": [
       "<div id=\"5dc3bf36-4aa4-47a5-ad24-aaec0315b23e\" style=\"height: 600px; width: 900px;\" class=\"plotly-graph-div\"></div><script type=\"text/javascript\">require([\"plotly\"], function(Plotly) { window.PLOTLYENV=window.PLOTLYENV || {};window.PLOTLYENV.BASE_URL=\"https://plot.ly\";Plotly.newPlot(\"5dc3bf36-4aa4-47a5-ad24-aaec0315b23e\", [{\"type\": \"histogram\", \"y\": [\"Low\", \"High\", \"Medium\", \"Low\", \"Low\", \"High\", \"Low\", \"High\", \"Low\", \"Low\", \"Low\", \"High\", \"High\"], \"xaxis\": \"x1\", \"yaxis\": \"y1\"}, {\"type\": \"histogram\", \"y\": [\"Low\", \"Low\", \"High\", \"High\", \"Low\"], \"xaxis\": \"x2\", \"yaxis\": \"y2\"}, {\"type\": \"histogram\", \"y\": [\"High\", \"Low\", \"High\", \"High\", \"High\", \"High\", \"Low\", \"Low\", \"Low\", \"Low\", \"Low\", \"High\", \"Low\"], \"xaxis\": \"x3\", \"yaxis\": \"y3\"}, {\"type\": \"histogram\", \"y\": [\"Low\", \"High\", \"Low\", \"Low\", \"Low\", \"High\", \"Low\", \"High\", \"Low\", \"Low\", \"Low\", \"Low\"], \"xaxis\": \"x4\", \"yaxis\": \"y4\"}], {\"xaxis1\": {\"domain\": [0.0, 0.2125], \"anchor\": \"y1\"}, \"yaxis1\": {\"domain\": [0.0, 1.0], \"anchor\": \"x1\"}, \"xaxis2\": {\"domain\": [0.2625, 0.475], \"anchor\": \"y2\"}, \"yaxis2\": {\"domain\": [0.0, 1.0], \"anchor\": \"x2\"}, \"xaxis3\": {\"domain\": [0.525, 0.7375], \"anchor\": \"y3\"}, \"yaxis3\": {\"domain\": [0.0, 1.0], \"anchor\": \"x3\"}, \"xaxis4\": {\"domain\": [0.7875, 1.0], \"anchor\": \"y4\"}, \"yaxis4\": {\"domain\": [0.0, 1.0], \"anchor\": \"x4\"}, \"height\": 600, \"width\": 900, \"title\": \"Income\"}, {\"showLink\": true, \"linkText\": \"Export to plot.ly\"})});</script>"
      ],
      "text/vnd.plotly.v1+html": [
       "<div id=\"5dc3bf36-4aa4-47a5-ad24-aaec0315b23e\" style=\"height: 600px; width: 900px;\" class=\"plotly-graph-div\"></div><script type=\"text/javascript\">require([\"plotly\"], function(Plotly) { window.PLOTLYENV=window.PLOTLYENV || {};window.PLOTLYENV.BASE_URL=\"https://plot.ly\";Plotly.newPlot(\"5dc3bf36-4aa4-47a5-ad24-aaec0315b23e\", [{\"type\": \"histogram\", \"y\": [\"Low\", \"High\", \"Medium\", \"Low\", \"Low\", \"High\", \"Low\", \"High\", \"Low\", \"Low\", \"Low\", \"High\", \"High\"], \"xaxis\": \"x1\", \"yaxis\": \"y1\"}, {\"type\": \"histogram\", \"y\": [\"Low\", \"Low\", \"High\", \"High\", \"Low\"], \"xaxis\": \"x2\", \"yaxis\": \"y2\"}, {\"type\": \"histogram\", \"y\": [\"High\", \"Low\", \"High\", \"High\", \"High\", \"High\", \"Low\", \"Low\", \"Low\", \"Low\", \"Low\", \"High\", \"Low\"], \"xaxis\": \"x3\", \"yaxis\": \"y3\"}, {\"type\": \"histogram\", \"y\": [\"Low\", \"High\", \"Low\", \"Low\", \"Low\", \"High\", \"Low\", \"High\", \"Low\", \"Low\", \"Low\", \"Low\"], \"xaxis\": \"x4\", \"yaxis\": \"y4\"}], {\"xaxis1\": {\"domain\": [0.0, 0.2125], \"anchor\": \"y1\"}, \"yaxis1\": {\"domain\": [0.0, 1.0], \"anchor\": \"x1\"}, \"xaxis2\": {\"domain\": [0.2625, 0.475], \"anchor\": \"y2\"}, \"yaxis2\": {\"domain\": [0.0, 1.0], \"anchor\": \"x2\"}, \"xaxis3\": {\"domain\": [0.525, 0.7375], \"anchor\": \"y3\"}, \"yaxis3\": {\"domain\": [0.0, 1.0], \"anchor\": \"x3\"}, \"xaxis4\": {\"domain\": [0.7875, 1.0], \"anchor\": \"y4\"}, \"yaxis4\": {\"domain\": [0.0, 1.0], \"anchor\": \"x4\"}, \"height\": 600, \"width\": 900, \"title\": \"Income\"}, {\"showLink\": true, \"linkText\": \"Export to plot.ly\"})});</script>"
      ]
     },
     "metadata": {},
     "output_type": "display_data"
    }
   ],
   "source": [
    "trace0 =  go.Histogram(\n",
    "    y=df2.loc[df2[\"group\"]==0,\"Income\"]\n",
    ")\n",
    "trace1 =  go.Histogram(\n",
    "    y=df2.loc[df2[\"group\"]==1,\"Income\"]\n",
    ")\n",
    "trace2 =  go.Histogram(\n",
    "    y=df2.loc[df2[\"group\"]==2,\"Income\"]\n",
    ")\n",
    "trace3 =  go.Histogram(\n",
    "    y=df2.loc[df2[\"group\"]==3,\"Income\"]\n",
    ")\n",
    "\n",
    "\n",
    "data = [trace0,trace1,trace2,trace3]\n",
    "fig = tools.make_subplots(rows=1, cols=4)\n",
    "\n",
    "fig.append_trace(trace0,1,1)\n",
    "fig.append_trace(trace1,1,2)\n",
    "fig.append_trace(trace2,1,3)\n",
    "fig.append_trace(trace3,1,4)\n",
    "\n",
    "\n",
    "fig['layout'].update(height=600, width=900, title='Income')\n",
    "iplot(fig)"
   ]
  },
  {
   "cell_type": "code",
   "execution_count": 287,
   "metadata": {},
   "outputs": [
    {
     "data": {
      "text/plain": [
       "Churn\n",
       "1    100.0\n",
       "Name: Churn, dtype: float64"
      ]
     },
     "execution_count": 287,
     "metadata": {},
     "output_type": "execute_result"
    }
   ],
   "source": [
    "df_highvalue = df2[df2[\"group\"]==0]\n",
    "dfx = df_highvalue.groupby(\"Churn\").agg({'Churn': 'count'})\n",
    "np.round(dfx['Churn']/sum(dfx['Churn'])*100,2)"
   ]
  },
  {
   "cell_type": "code",
   "execution_count": 281,
   "metadata": {},
   "outputs": [
    {
     "data": {
      "text/html": [
       "<div>\n",
       "<style scoped>\n",
       "    .dataframe tbody tr th:only-of-type {\n",
       "        vertical-align: middle;\n",
       "    }\n",
       "\n",
       "    .dataframe tbody tr th {\n",
       "        vertical-align: top;\n",
       "    }\n",
       "\n",
       "    .dataframe thead th {\n",
       "        text-align: right;\n",
       "    }\n",
       "</style>\n",
       "<table border=\"1\" class=\"dataframe\">\n",
       "  <thead>\n",
       "    <tr style=\"text-align: right;\">\n",
       "      <th></th>\n",
       "      <th>Churn</th>\n",
       "    </tr>\n",
       "    <tr>\n",
       "      <th>Churn</th>\n",
       "      <th></th>\n",
       "    </tr>\n",
       "  </thead>\n",
       "  <tbody>\n",
       "    <tr>\n",
       "      <th>0</th>\n",
       "      <td>13</td>\n",
       "    </tr>\n",
       "  </tbody>\n",
       "</table>\n",
       "</div>"
      ],
      "text/plain": [
       "       Churn\n",
       "Churn       \n",
       "0         13"
      ]
     },
     "execution_count": 281,
     "metadata": {},
     "output_type": "execute_result"
    }
   ],
   "source": [
    "dfx"
   ]
  },
  {
   "cell_type": "code",
   "execution_count": null,
   "metadata": {},
   "outputs": [],
   "source": []
  },
  {
   "cell_type": "code",
   "execution_count": 285,
   "metadata": {},
   "outputs": [
    {
     "data": {
      "text/html": [
       "<div>\n",
       "<style scoped>\n",
       "    .dataframe tbody tr th:only-of-type {\n",
       "        vertical-align: middle;\n",
       "    }\n",
       "\n",
       "    .dataframe tbody tr th {\n",
       "        vertical-align: top;\n",
       "    }\n",
       "\n",
       "    .dataframe thead th {\n",
       "        text-align: right;\n",
       "    }\n",
       "</style>\n",
       "<table border=\"1\" class=\"dataframe\">\n",
       "  <thead>\n",
       "    <tr style=\"text-align: right;\">\n",
       "      <th></th>\n",
       "      <th>Customer_Id</th>\n",
       "      <th>No_Of_Purchases</th>\n",
       "      <th>Income</th>\n",
       "      <th>Sale_value</th>\n",
       "      <th>First_Name</th>\n",
       "      <th>Last_Name</th>\n",
       "      <th>Age</th>\n",
       "      <th>Gender</th>\n",
       "      <th>Maritial_Status</th>\n",
       "      <th>No_Of_Childern</th>\n",
       "      <th>Profession</th>\n",
       "      <th>Education</th>\n",
       "      <th>Address_2</th>\n",
       "      <th>City</th>\n",
       "      <th>Country</th>\n",
       "      <th>Churn</th>\n",
       "      <th>group</th>\n",
       "    </tr>\n",
       "  </thead>\n",
       "  <tbody>\n",
       "    <tr>\n",
       "      <th>11</th>\n",
       "      <td>1381</td>\n",
       "      <td>3</td>\n",
       "      <td>Low</td>\n",
       "      <td>11124.0</td>\n",
       "      <td>Aidan</td>\n",
       "      <td>Khan</td>\n",
       "      <td>32</td>\n",
       "      <td>Male</td>\n",
       "      <td>Others</td>\n",
       "      <td>2</td>\n",
       "      <td>Accounting</td>\n",
       "      <td>SSLC\\X</td>\n",
       "      <td>Arunachal Pradesh</td>\n",
       "      <td>Itanagar</td>\n",
       "      <td>India</td>\n",
       "      <td>1</td>\n",
       "      <td>0</td>\n",
       "    </tr>\n",
       "    <tr>\n",
       "      <th>12</th>\n",
       "      <td>1224</td>\n",
       "      <td>3</td>\n",
       "      <td>High</td>\n",
       "      <td>11132.0</td>\n",
       "      <td>Wayne</td>\n",
       "      <td>Raj</td>\n",
       "      <td>51</td>\n",
       "      <td>NaN</td>\n",
       "      <td>Divorced</td>\n",
       "      <td>1</td>\n",
       "      <td>Tech Support</td>\n",
       "      <td>Post Graduate</td>\n",
       "      <td>GA</td>\n",
       "      <td>Panjim</td>\n",
       "      <td>India</td>\n",
       "      <td>1</td>\n",
       "      <td>0</td>\n",
       "    </tr>\n",
       "    <tr>\n",
       "      <th>39</th>\n",
       "      <td>1340</td>\n",
       "      <td>3</td>\n",
       "      <td>Medium</td>\n",
       "      <td>14475.0</td>\n",
       "      <td>Virginia</td>\n",
       "      <td>Kumar</td>\n",
       "      <td>39</td>\n",
       "      <td>Female</td>\n",
       "      <td>Married</td>\n",
       "      <td>2</td>\n",
       "      <td>Customer Relations</td>\n",
       "      <td>PUC\\XII</td>\n",
       "      <td>Sikkim</td>\n",
       "      <td>Gangtok</td>\n",
       "      <td>India</td>\n",
       "      <td>1</td>\n",
       "      <td>0</td>\n",
       "    </tr>\n",
       "    <tr>\n",
       "      <th>41</th>\n",
       "      <td>1198</td>\n",
       "      <td>3</td>\n",
       "      <td>Low</td>\n",
       "      <td>14555.0</td>\n",
       "      <td>Jacob</td>\n",
       "      <td>Patel</td>\n",
       "      <td>41</td>\n",
       "      <td>Female</td>\n",
       "      <td>Others</td>\n",
       "      <td>3</td>\n",
       "      <td>Tech Support</td>\n",
       "      <td>SSLC\\X</td>\n",
       "      <td>Lakshadweep</td>\n",
       "      <td>Kavaratti</td>\n",
       "      <td>India</td>\n",
       "      <td>1</td>\n",
       "      <td>0</td>\n",
       "    </tr>\n",
       "    <tr>\n",
       "      <th>51</th>\n",
       "      <td>1254</td>\n",
       "      <td>3</td>\n",
       "      <td>Low</td>\n",
       "      <td>15497.0</td>\n",
       "      <td>Kameko</td>\n",
       "      <td>Jain</td>\n",
       "      <td>56</td>\n",
       "      <td>Female</td>\n",
       "      <td>Divorced</td>\n",
       "      <td>1</td>\n",
       "      <td>Advertising</td>\n",
       "      <td>SSLC\\X</td>\n",
       "      <td>GJ</td>\n",
       "      <td>Gandhinagar</td>\n",
       "      <td>India</td>\n",
       "      <td>1</td>\n",
       "      <td>0</td>\n",
       "    </tr>\n",
       "    <tr>\n",
       "      <th>68</th>\n",
       "      <td>1344</td>\n",
       "      <td>3</td>\n",
       "      <td>High</td>\n",
       "      <td>17387.0</td>\n",
       "      <td>Rylee</td>\n",
       "      <td>Ismail</td>\n",
       "      <td>73</td>\n",
       "      <td>Female</td>\n",
       "      <td>Divorced</td>\n",
       "      <td>2</td>\n",
       "      <td>Finances</td>\n",
       "      <td>Graduate</td>\n",
       "      <td>MH</td>\n",
       "      <td>Miraj</td>\n",
       "      <td>India</td>\n",
       "      <td>1</td>\n",
       "      <td>0</td>\n",
       "    </tr>\n",
       "    <tr>\n",
       "      <th>69</th>\n",
       "      <td>1497</td>\n",
       "      <td>3</td>\n",
       "      <td>Low</td>\n",
       "      <td>17442.0</td>\n",
       "      <td>Oscar</td>\n",
       "      <td>Jain</td>\n",
       "      <td>53</td>\n",
       "      <td>Male</td>\n",
       "      <td>Others</td>\n",
       "      <td>1</td>\n",
       "      <td>Finances</td>\n",
       "      <td>PUC\\XII</td>\n",
       "      <td>Meghalaya</td>\n",
       "      <td>Shillong</td>\n",
       "      <td>India</td>\n",
       "      <td>1</td>\n",
       "      <td>0</td>\n",
       "    </tr>\n",
       "    <tr>\n",
       "      <th>87</th>\n",
       "      <td>1177</td>\n",
       "      <td>4</td>\n",
       "      <td>High</td>\n",
       "      <td>19487.0</td>\n",
       "      <td>Delilah</td>\n",
       "      <td>Khan</td>\n",
       "      <td>59</td>\n",
       "      <td>Female</td>\n",
       "      <td>Common-Law</td>\n",
       "      <td>2</td>\n",
       "      <td>Media Relations</td>\n",
       "      <td>Post Graduate</td>\n",
       "      <td>GJ</td>\n",
       "      <td>Anand</td>\n",
       "      <td>India</td>\n",
       "      <td>1</td>\n",
       "      <td>0</td>\n",
       "    </tr>\n",
       "    <tr>\n",
       "      <th>88</th>\n",
       "      <td>1466</td>\n",
       "      <td>3</td>\n",
       "      <td>Low</td>\n",
       "      <td>19807.0</td>\n",
       "      <td>Thomas</td>\n",
       "      <td>Jain</td>\n",
       "      <td>48</td>\n",
       "      <td>Female</td>\n",
       "      <td>Married</td>\n",
       "      <td>1</td>\n",
       "      <td>Legal Department</td>\n",
       "      <td>Under Graduate</td>\n",
       "      <td>ML</td>\n",
       "      <td>Shillong</td>\n",
       "      <td>India</td>\n",
       "      <td>1</td>\n",
       "      <td>0</td>\n",
       "    </tr>\n",
       "    <tr>\n",
       "      <th>94</th>\n",
       "      <td>1256</td>\n",
       "      <td>3</td>\n",
       "      <td>Low</td>\n",
       "      <td>21130.0</td>\n",
       "      <td>Caldwell</td>\n",
       "      <td>Kumar</td>\n",
       "      <td>72</td>\n",
       "      <td>Female</td>\n",
       "      <td>Married</td>\n",
       "      <td>1</td>\n",
       "      <td>Payroll</td>\n",
       "      <td>Under Graduate</td>\n",
       "      <td>Bihar</td>\n",
       "      <td>Bihar Sharif</td>\n",
       "      <td>India</td>\n",
       "      <td>1</td>\n",
       "      <td>0</td>\n",
       "    </tr>\n",
       "    <tr>\n",
       "      <th>96</th>\n",
       "      <td>1033</td>\n",
       "      <td>4</td>\n",
       "      <td>Low</td>\n",
       "      <td>21936.0</td>\n",
       "      <td>Paloma</td>\n",
       "      <td>Jain</td>\n",
       "      <td>60</td>\n",
       "      <td>NaN</td>\n",
       "      <td>Single</td>\n",
       "      <td>0</td>\n",
       "      <td>Public Relations</td>\n",
       "      <td>PUC\\XII</td>\n",
       "      <td>SK</td>\n",
       "      <td>Gangtok</td>\n",
       "      <td>India</td>\n",
       "      <td>1</td>\n",
       "      <td>0</td>\n",
       "    </tr>\n",
       "    <tr>\n",
       "      <th>98</th>\n",
       "      <td>1196</td>\n",
       "      <td>3</td>\n",
       "      <td>High</td>\n",
       "      <td>22237.0</td>\n",
       "      <td>Katell</td>\n",
       "      <td>Khan</td>\n",
       "      <td>56</td>\n",
       "      <td>NaN</td>\n",
       "      <td>Common-Law</td>\n",
       "      <td>2</td>\n",
       "      <td>Public Relations</td>\n",
       "      <td>Graduate</td>\n",
       "      <td>Uttar Pradesh</td>\n",
       "      <td>Hathras</td>\n",
       "      <td>India</td>\n",
       "      <td>1</td>\n",
       "      <td>0</td>\n",
       "    </tr>\n",
       "    <tr>\n",
       "      <th>106</th>\n",
       "      <td>1364</td>\n",
       "      <td>3</td>\n",
       "      <td>High</td>\n",
       "      <td>24501.0</td>\n",
       "      <td>Bernard</td>\n",
       "      <td>Raj</td>\n",
       "      <td>68</td>\n",
       "      <td>NaN</td>\n",
       "      <td>Married</td>\n",
       "      <td>1</td>\n",
       "      <td>Finances</td>\n",
       "      <td>Others</td>\n",
       "      <td>HP</td>\n",
       "      <td>Shimla</td>\n",
       "      <td>India</td>\n",
       "      <td>1</td>\n",
       "      <td>0</td>\n",
       "    </tr>\n",
       "  </tbody>\n",
       "</table>\n",
       "</div>"
      ],
      "text/plain": [
       "     Customer_Id  No_Of_Purchases  Income  Sale_value First_Name Last_Name  \\\n",
       "11          1381                3     Low     11124.0      Aidan      Khan   \n",
       "12          1224                3    High     11132.0      Wayne       Raj   \n",
       "39          1340                3  Medium     14475.0   Virginia     Kumar   \n",
       "41          1198                3     Low     14555.0      Jacob     Patel   \n",
       "51          1254                3     Low     15497.0     Kameko      Jain   \n",
       "68          1344                3    High     17387.0      Rylee    Ismail   \n",
       "69          1497                3     Low     17442.0      Oscar      Jain   \n",
       "87          1177                4    High     19487.0    Delilah      Khan   \n",
       "88          1466                3     Low     19807.0     Thomas      Jain   \n",
       "94          1256                3     Low     21130.0   Caldwell     Kumar   \n",
       "96          1033                4     Low     21936.0     Paloma      Jain   \n",
       "98          1196                3    High     22237.0     Katell      Khan   \n",
       "106         1364                3    High     24501.0    Bernard       Raj   \n",
       "\n",
       "     Age  Gender Maritial_Status  No_Of_Childern          Profession  \\\n",
       "11    32    Male          Others               2          Accounting   \n",
       "12    51     NaN        Divorced               1        Tech Support   \n",
       "39    39  Female         Married               2  Customer Relations   \n",
       "41    41  Female          Others               3        Tech Support   \n",
       "51    56  Female        Divorced               1         Advertising   \n",
       "68    73  Female        Divorced               2            Finances   \n",
       "69    53    Male          Others               1            Finances   \n",
       "87    59  Female      Common-Law               2     Media Relations   \n",
       "88    48  Female         Married               1    Legal Department   \n",
       "94    72  Female         Married               1             Payroll   \n",
       "96    60     NaN          Single               0    Public Relations   \n",
       "98    56     NaN      Common-Law               2    Public Relations   \n",
       "106   68     NaN         Married               1            Finances   \n",
       "\n",
       "          Education          Address_2          City Country  Churn  group  \n",
       "11           SSLC\\X  Arunachal Pradesh      Itanagar   India      1      0  \n",
       "12    Post Graduate                 GA        Panjim   India      1      0  \n",
       "39          PUC\\XII             Sikkim       Gangtok   India      1      0  \n",
       "41           SSLC\\X        Lakshadweep     Kavaratti   India      1      0  \n",
       "51           SSLC\\X                 GJ   Gandhinagar   India      1      0  \n",
       "68         Graduate                 MH         Miraj   India      1      0  \n",
       "69          PUC\\XII          Meghalaya      Shillong   India      1      0  \n",
       "87    Post Graduate                 GJ         Anand   India      1      0  \n",
       "88   Under Graduate                 ML      Shillong   India      1      0  \n",
       "94   Under Graduate              Bihar  Bihar Sharif   India      1      0  \n",
       "96          PUC\\XII                 SK       Gangtok   India      1      0  \n",
       "98         Graduate      Uttar Pradesh       Hathras   India      1      0  \n",
       "106          Others                 HP        Shimla   India      1      0  "
      ]
     },
     "execution_count": 285,
     "metadata": {},
     "output_type": "execute_result"
    }
   ],
   "source": [
    "df2[df2[\"group\"]==0]"
   ]
  },
  {
   "cell_type": "code",
   "execution_count": null,
   "metadata": {},
   "outputs": [],
   "source": []
  },
  {
   "cell_type": "markdown",
   "metadata": {},
   "source": [
    "From the above analysis, we can infer that following are the target group of customers: \n",
    "1.\tCustomers who make 4,5 purchases are likely to stay\n",
    "2.\tCustomers whose income is relatively less since they are mostly students and youngsters.\n",
    "3.\tCustomers who have more number of children are likely to stay \n",
    "4.\tFemale customers are likely to leave\n",
    "\n",
    "Inferring about each group spending & usage pattern. Most members of group 0 are already churned, so better making strategy for this type of group will make sense.\n"
   ]
  },
  {
   "cell_type": "code",
   "execution_count": null,
   "metadata": {},
   "outputs": [],
   "source": []
  }
 ],
 "metadata": {
  "kernelspec": {
   "display_name": "Python 3",
   "language": "python",
   "name": "python3"
  },
  "language_info": {
   "codemirror_mode": {
    "name": "ipython",
    "version": 3
   },
   "file_extension": ".py",
   "mimetype": "text/x-python",
   "name": "python",
   "nbconvert_exporter": "python",
   "pygments_lexer": "ipython3",
   "version": "3.6.4"
  }
 },
 "nbformat": 4,
 "nbformat_minor": 2
}
